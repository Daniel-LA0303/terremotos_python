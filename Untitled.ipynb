{
 "cells": [
  {
   "cell_type": "markdown",
   "id": "231b3310",
   "metadata": {},
   "source": [
    "# Modelos y terremotos en México\n",
    "## Introducción\n",
    "\n",
    "Los terremotos son fenómenos naturales que ocurren sin aviso, los terremotos no son pronosticables, en México son comunes los terremotos debido a que México se encuentra geográficamente en un lugar sísmico, esto a través de los últimos siglos ha sido un problema debido a que son frecuentes y que se ha llevado miles de vidas. \n",
    "La ciencia de datos es una mezcla de machine learning, IA, redes neuronales, análisis de datos entre otras cosas. La ciencia de datos ha tenido un papel muy importante los últimos años, esta tecnología ha crecido exponencialmente, sobre todo en nuestra vida diaria.\n",
    "\n",
    "### Contenido\n",
    "1. Carga de los datos\n",
    "    - Descripción de las variables\n",
    "    - Conversión de los datos\n",
    "    - Analisis de las variables\n",
    "    - Analisis basico de los datos\n",
    "    - Terremotos con magnitud mayor a 7\n",
    "    - Perdida de valores\n",
    "    - Eliminacion de campos que no necesitamos\n",
    "    - Detección de valores atípicos\n",
    "2. Visualización\n",
    "    - Localización de terremotos\n",
    "    - Visualización con graficas Scatter\n",
    "    - Terremotos con Magnitud mayor a 6\n",
    "    - Clase Terremoto\n",
    "    - Terremotos destructivos\n",
    "    - Todos los valores de las escalas con graficas de violin\n",
    "    - Valores Atipicos\n",
    "    - Ingeniería de características\n",
    "3. Modelos\n",
    "    - Arbol de desición \n",
    "    - Vecinos mas cercanos\n",
    "    - Regresión Logistica"
   ]
  },
  {
   "cell_type": "code",
   "execution_count": 1,
   "id": "36a68d2b",
   "metadata": {},
   "outputs": [
    {
     "data": {
      "text/html": [
       "        <script type=\"text/javascript\">\n",
       "        window.PlotlyConfig = {MathJaxConfig: 'local'};\n",
       "        if (window.MathJax) {MathJax.Hub.Config({SVG: {font: \"STIX-Web\"}});}\n",
       "        if (typeof require !== 'undefined') {\n",
       "        require.undef(\"plotly\");\n",
       "        requirejs.config({\n",
       "            paths: {\n",
       "                'plotly': ['https://cdn.plot.ly/plotly-2.9.0.min']\n",
       "            }\n",
       "        });\n",
       "        require(['plotly'], function(Plotly) {\n",
       "            window._Plotly = Plotly;\n",
       "        });\n",
       "        }\n",
       "        </script>\n",
       "        "
      ]
     },
     "metadata": {},
     "output_type": "display_data"
    }
   ],
   "source": [
    "#Librerias Necesarias\n",
    "import pandas as pd\n",
    "import numpy as np\n",
    "import seaborn as sns\n",
    "import matplotlib.pyplot as plt\n",
    "from collections import Counter\n",
    "from plotly.offline import init_notebook_mode, plot, iplot\n",
    "import plotly as py \n",
    "import plotly.express as px\n",
    "init_notebook_mode(connected=True)\n",
    "import plotly.graph_objs as go\n",
    "\n",
    "from sklearn.model_selection import train_test_split\n",
    "import warnings\n",
    "warnings.filterwarnings(\"ignore\")"
   ]
  },
  {
   "cell_type": "markdown",
   "id": "67f7287a",
   "metadata": {},
   "source": [
    "## Carga de los datos"
   ]
  },
  {
   "cell_type": "code",
   "execution_count": 2,
   "id": "4b3adb04",
   "metadata": {},
   "outputs": [],
   "source": [
    "data_terremotos = pd.read_csv(\"DATA.csv\")"
   ]
  },
  {
   "cell_type": "code",
   "execution_count": 3,
   "id": "4fb79cb4",
   "metadata": {},
   "outputs": [
    {
     "data": {
      "text/plain": [
       "Index(['Fecha', 'Hora', 'Magnitud', 'Latitud', 'Longitud', 'Profundidad',\n",
       "       'Referencia de localizacion', 'Fecha UTC', 'Hora UTC', 'Estatus'],\n",
       "      dtype='object')"
      ]
     },
     "execution_count": 3,
     "metadata": {},
     "output_type": "execute_result"
    }
   ],
   "source": [
    "data_terremotos.columns"
   ]
  },
  {
   "cell_type": "code",
   "execution_count": 4,
   "id": "a0fa4001",
   "metadata": {},
   "outputs": [
    {
     "data": {
      "text/html": [
       "<div>\n",
       "<style scoped>\n",
       "    .dataframe tbody tr th:only-of-type {\n",
       "        vertical-align: middle;\n",
       "    }\n",
       "\n",
       "    .dataframe tbody tr th {\n",
       "        vertical-align: top;\n",
       "    }\n",
       "\n",
       "    .dataframe thead th {\n",
       "        text-align: right;\n",
       "    }\n",
       "</style>\n",
       "<table border=\"1\" class=\"dataframe\">\n",
       "  <thead>\n",
       "    <tr style=\"text-align: right;\">\n",
       "      <th></th>\n",
       "      <th>Fecha</th>\n",
       "      <th>Hora</th>\n",
       "      <th>Magnitud</th>\n",
       "      <th>Latitud</th>\n",
       "      <th>Longitud</th>\n",
       "      <th>Profundidad</th>\n",
       "      <th>Referencia de localizacion</th>\n",
       "      <th>Fecha UTC</th>\n",
       "      <th>Hora UTC</th>\n",
       "      <th>Estatus</th>\n",
       "    </tr>\n",
       "  </thead>\n",
       "  <tbody>\n",
       "    <tr>\n",
       "      <th>0</th>\n",
       "      <td>20/01/1900</td>\n",
       "      <td>00:33:30</td>\n",
       "      <td>7.4</td>\n",
       "      <td>20.00</td>\n",
       "      <td>-105.00</td>\n",
       "      <td>33</td>\n",
       "      <td>71 km al NOROESTE de AUTLAN DE NAVARRO, JAL</td>\n",
       "      <td>20/01/1900</td>\n",
       "      <td>06:33:30</td>\n",
       "      <td>revisado</td>\n",
       "    </tr>\n",
       "    <tr>\n",
       "      <th>1</th>\n",
       "      <td>16/05/1900</td>\n",
       "      <td>14:12:00</td>\n",
       "      <td>6.9</td>\n",
       "      <td>20.00</td>\n",
       "      <td>-105.00</td>\n",
       "      <td>33</td>\n",
       "      <td>71 km al NOROESTE de AUTLAN DE NAVARRO, JAL</td>\n",
       "      <td>16/05/1900</td>\n",
       "      <td>20:12:00</td>\n",
       "      <td>revisado</td>\n",
       "    </tr>\n",
       "    <tr>\n",
       "      <th>2</th>\n",
       "      <td>05/03/1901</td>\n",
       "      <td>04:45:00</td>\n",
       "      <td>6.9</td>\n",
       "      <td>25.00</td>\n",
       "      <td>-110.00</td>\n",
       "      <td>33</td>\n",
       "      <td>100 km al NORESTE de LA PAZ, BCS</td>\n",
       "      <td>05/03/1901</td>\n",
       "      <td>10:45:00</td>\n",
       "      <td>revisado</td>\n",
       "    </tr>\n",
       "    <tr>\n",
       "      <th>3</th>\n",
       "      <td>08/12/1901</td>\n",
       "      <td>20:17:00</td>\n",
       "      <td>7</td>\n",
       "      <td>26.00</td>\n",
       "      <td>-110.00</td>\n",
       "      <td>33</td>\n",
       "      <td>83 km al OESTE de AHOME, SIN</td>\n",
       "      <td>09/12/1901</td>\n",
       "      <td>02:17:00</td>\n",
       "      <td>revisado</td>\n",
       "    </tr>\n",
       "    <tr>\n",
       "      <th>4</th>\n",
       "      <td>16/01/1902</td>\n",
       "      <td>17:19:00</td>\n",
       "      <td>7</td>\n",
       "      <td>17.62</td>\n",
       "      <td>-99.72</td>\n",
       "      <td>33</td>\n",
       "      <td>21 km al OESTE de ZUMPANGO DEL RIO, GRO</td>\n",
       "      <td>16/01/1902</td>\n",
       "      <td>23:19:00</td>\n",
       "      <td>revisado</td>\n",
       "    </tr>\n",
       "  </tbody>\n",
       "</table>\n",
       "</div>"
      ],
      "text/plain": [
       "        Fecha      Hora Magnitud  Latitud  Longitud Profundidad  \\\n",
       "0  20/01/1900  00:33:30      7.4    20.00   -105.00          33   \n",
       "1  16/05/1900  14:12:00      6.9    20.00   -105.00          33   \n",
       "2  05/03/1901  04:45:00      6.9    25.00   -110.00          33   \n",
       "3  08/12/1901  20:17:00        7    26.00   -110.00          33   \n",
       "4  16/01/1902  17:19:00        7    17.62    -99.72          33   \n",
       "\n",
       "                    Referencia de localizacion   Fecha UTC  Hora UTC   Estatus  \n",
       "0  71 km al NOROESTE de AUTLAN DE NAVARRO, JAL  20/01/1900  06:33:30  revisado  \n",
       "1  71 km al NOROESTE de AUTLAN DE NAVARRO, JAL  16/05/1900  20:12:00  revisado  \n",
       "2             100 km al NORESTE de LA PAZ, BCS  05/03/1901  10:45:00  revisado  \n",
       "3                 83 km al OESTE de AHOME, SIN  09/12/1901  02:17:00  revisado  \n",
       "4      21 km al OESTE de ZUMPANGO DEL RIO, GRO  16/01/1902  23:19:00  revisado  "
      ]
     },
     "execution_count": 4,
     "metadata": {},
     "output_type": "execute_result"
    }
   ],
   "source": [
    "data_terremotos.head()"
   ]
  },
  {
   "cell_type": "code",
   "execution_count": 5,
   "id": "e908ce24",
   "metadata": {},
   "outputs": [
    {
     "data": {
      "text/html": [
       "<div>\n",
       "<style scoped>\n",
       "    .dataframe tbody tr th:only-of-type {\n",
       "        vertical-align: middle;\n",
       "    }\n",
       "\n",
       "    .dataframe tbody tr th {\n",
       "        vertical-align: top;\n",
       "    }\n",
       "\n",
       "    .dataframe thead th {\n",
       "        text-align: right;\n",
       "    }\n",
       "</style>\n",
       "<table border=\"1\" class=\"dataframe\">\n",
       "  <thead>\n",
       "    <tr style=\"text-align: right;\">\n",
       "      <th></th>\n",
       "      <th>Latitud</th>\n",
       "      <th>Longitud</th>\n",
       "    </tr>\n",
       "  </thead>\n",
       "  <tbody>\n",
       "    <tr>\n",
       "      <th>count</th>\n",
       "      <td>222465.000000</td>\n",
       "      <td>222465.000000</td>\n",
       "    </tr>\n",
       "    <tr>\n",
       "      <th>mean</th>\n",
       "      <td>17.293374</td>\n",
       "      <td>-98.203140</td>\n",
       "    </tr>\n",
       "    <tr>\n",
       "      <th>std</th>\n",
       "      <td>3.499437</td>\n",
       "      <td>5.070973</td>\n",
       "    </tr>\n",
       "    <tr>\n",
       "      <th>min</th>\n",
       "      <td>10.271000</td>\n",
       "      <td>-120.595000</td>\n",
       "    </tr>\n",
       "    <tr>\n",
       "      <th>25%</th>\n",
       "      <td>15.760000</td>\n",
       "      <td>-100.011000</td>\n",
       "    </tr>\n",
       "    <tr>\n",
       "      <th>50%</th>\n",
       "      <td>16.355200</td>\n",
       "      <td>-97.759800</td>\n",
       "    </tr>\n",
       "    <tr>\n",
       "      <th>75%</th>\n",
       "      <td>17.352700</td>\n",
       "      <td>-94.734800</td>\n",
       "    </tr>\n",
       "    <tr>\n",
       "      <th>max</th>\n",
       "      <td>33.466500</td>\n",
       "      <td>-85.546700</td>\n",
       "    </tr>\n",
       "  </tbody>\n",
       "</table>\n",
       "</div>"
      ],
      "text/plain": [
       "             Latitud       Longitud\n",
       "count  222465.000000  222465.000000\n",
       "mean       17.293374     -98.203140\n",
       "std         3.499437       5.070973\n",
       "min        10.271000    -120.595000\n",
       "25%        15.760000    -100.011000\n",
       "50%        16.355200     -97.759800\n",
       "75%        17.352700     -94.734800\n",
       "max        33.466500     -85.546700"
      ]
     },
     "execution_count": 5,
     "metadata": {},
     "output_type": "execute_result"
    }
   ],
   "source": [
    "data_terremotos.describe()"
   ]
  },
  {
   "cell_type": "markdown",
   "id": "485d29ba",
   "metadata": {},
   "source": [
    "### Descripción de las variables\n",
    "1. Fecha: fecha del suceso\n",
    "2. Hora: la hora del suceso\n",
    "3. Magnitud: magnitud del terremoto\n",
    "4. Latitud y longitud: donde pasan los terremotos\n",
    "5. Profundidad: profundidad en la que ocurrió el terremoto\n",
    "6. Referencia de localización: localización\n",
    "7. Fecha UTC: es la fecha con la que se hace referencia el Tiempo Coordinado Universal\n",
    "8. Estatus: si se ha revisado o no la columna"
   ]
  },
  {
   "cell_type": "code",
   "execution_count": 6,
   "id": "506dbc86",
   "metadata": {},
   "outputs": [
    {
     "data": {
      "text/plain": [
       "Fecha                         0\n",
       "Hora                          0\n",
       "Magnitud                      0\n",
       "Latitud                       0\n",
       "Longitud                      0\n",
       "Profundidad                   0\n",
       "Referencia de localizacion    0\n",
       "Fecha UTC                     0\n",
       "Hora UTC                      0\n",
       "Estatus                       0\n",
       "dtype: int64"
      ]
     },
     "execution_count": 6,
     "metadata": {},
     "output_type": "execute_result"
    }
   ],
   "source": [
    "data_terremotos.isnull().sum()"
   ]
  },
  {
   "cell_type": "code",
   "execution_count": 7,
   "id": "fb6e076d",
   "metadata": {},
   "outputs": [
    {
     "name": "stdout",
     "output_type": "stream",
     "text": [
      "<class 'pandas.core.frame.DataFrame'>\n",
      "RangeIndex: 222465 entries, 0 to 222464\n",
      "Data columns (total 10 columns):\n",
      " #   Column                      Non-Null Count   Dtype  \n",
      "---  ------                      --------------   -----  \n",
      " 0   Fecha                       222465 non-null  object \n",
      " 1   Hora                        222465 non-null  object \n",
      " 2   Magnitud                    222465 non-null  object \n",
      " 3   Latitud                     222465 non-null  float64\n",
      " 4   Longitud                    222465 non-null  float64\n",
      " 5   Profundidad                 222465 non-null  object \n",
      " 6   Referencia de localizacion  222465 non-null  object \n",
      " 7   Fecha UTC                   222465 non-null  object \n",
      " 8   Hora UTC                    222465 non-null  object \n",
      " 9   Estatus                     222465 non-null  object \n",
      "dtypes: float64(2), object(8)\n",
      "memory usage: 17.0+ MB\n"
     ]
    }
   ],
   "source": [
    "data_terremotos.info()"
   ]
  },
  {
   "cell_type": "markdown",
   "id": "376e5574",
   "metadata": {},
   "source": [
    "### Conversion de nuestros datos\n",
    "Es necesario cuales seran nuestras columnas con las que trabajaremos, las cuales son las siguientes:\n",
    "1. Fecha en un formato de int\n",
    "2. Magnitud\n",
    "3. Longitud y latitud\n",
    "4. Profundidad"
   ]
  },
  {
   "cell_type": "code",
   "execution_count": 8,
   "id": "b21a7c77",
   "metadata": {},
   "outputs": [
    {
     "name": "stdout",
     "output_type": "stream",
     "text": [
      "<class 'pandas.core.frame.DataFrame'>\n",
      "RangeIndex: 222465 entries, 0 to 222464\n",
      "Data columns (total 11 columns):\n",
      " #   Column                      Non-Null Count   Dtype         \n",
      "---  ------                      --------------   -----         \n",
      " 0   Fecha                       222465 non-null  datetime64[ns]\n",
      " 1   Hora                        222465 non-null  object        \n",
      " 2   Magnitud                    204816 non-null  float64       \n",
      " 3   Latitud                     222465 non-null  float64       \n",
      " 4   Longitud                    222465 non-null  float64       \n",
      " 5   Profundidad                 222399 non-null  float64       \n",
      " 6   Referencia de localizacion  222465 non-null  object        \n",
      " 7   Fecha UTC                   222465 non-null  object        \n",
      " 8   Hora UTC                    222465 non-null  object        \n",
      " 9   Estatus                     222465 non-null  object        \n",
      " 10  anio                        222465 non-null  int64         \n",
      "dtypes: datetime64[ns](1), float64(4), int64(1), object(5)\n",
      "memory usage: 18.7+ MB\n"
     ]
    }
   ],
   "source": [
    "data_terremotos['Magnitud'] = pd.to_numeric(data_terremotos['Magnitud'], errors='coerce')\n",
    "data_terremotos['Latitud'] = pd.to_numeric(data_terremotos['Latitud'], errors='coerce')\n",
    "data_terremotos['Longitud'] = pd.to_numeric(data_terremotos['Longitud'], errors='coerce')\n",
    "data_terremotos['Profundidad'] = pd.to_numeric(data_terremotos['Profundidad'], errors='coerce')\n",
    "data_terremotos['Fecha'] = pd.to_datetime(data_terremotos['Fecha'], format='%d/%m/%Y')\n",
    "data_terremotos['anio'] = data_terremotos['Fecha'].dt.year\n",
    "data_terremotos.info()\n"
   ]
  },
  {
   "cell_type": "markdown",
   "id": "82dddde9",
   "metadata": {},
   "source": [
    "Como podemos ver el tipo de datos en ciertas columnas ha cambiado\n",
    "### Descripción de las variables que se usaran\n",
    "1. Magnitud: magnitud del terremoto\n",
    "2. Latitud y longitud: donde pasan los terremotos\n",
    "3. Profundidad: profundidad en la que ocurrió el terremoto\n",
    "4. anio: para el manejor de las fechas"
   ]
  },
  {
   "cell_type": "code",
   "execution_count": 9,
   "id": "2c597c19",
   "metadata": {},
   "outputs": [
    {
     "data": {
      "image/png": "[encoded data removed]",
      "text/plain": [
       "<Figure size 792x288 with 1 Axes>"
      ]
     },
     "metadata": {
      "needs_background": "light"
     },
     "output_type": "display_data"
    },
    {
     "data": {
      "image/png": "[encoded data removed]",
      "text/plain": [
       "<Figure size 792x288 with 1 Axes>"
      ]
     },
     "metadata": {
      "needs_background": "light"
     },
     "output_type": "display_data"
    },
    {
     "data": {
      "image/png": "[encoded data removed]",
      "text/plain": [
       "<Figure size 792x288 with 1 Axes>"
      ]
     },
     "metadata": {
      "needs_background": "light"
     },
     "output_type": "display_data"
    },
    {
     "data": {
      "image/png": "[encoded data removed]",
      "text/plain": [
       "<Figure size 792x288 with 1 Axes>"
      ]
     },
     "metadata": {
      "needs_background": "light"
     },
     "output_type": "display_data"
    },
    {
     "data": {
      "image/png": "[encoded data removed]",
      "text/plain": [
       "<Figure size 792x288 with 1 Axes>"
      ]
     },
     "metadata": {
      "needs_background": "light"
     },
     "output_type": "display_data"
    }
   ],
   "source": [
    "def matplot_draw_histo(column, colors):\n",
    "    plt.figure(figsize=(11, 4))\n",
    "    plt.hist(data_terremotos[column], color = colors, edgecolor=\"black\", bins = 100)\n",
    "    plt.xlabel(column)\n",
    "    plt.ylabel(\"Frecuency\")\n",
    "    plt.title(\"{} distribution\".format(column))\n",
    "    plt.show()\n",
    "\n",
    "numerical_var = [\"Latitud\", \"Longitud\", \"Magnitud\", \"Profundidad\" , \"anio\"]\n",
    "colors = [\"green\", \"blue\", \"orange\", \"red\", \"yellow\"]\n",
    "for n in range(5):\n",
    "    matplot_draw_histo(numerical_var[n], colors[n])"
   ]
  },
  {
   "cell_type": "markdown",
   "id": "c71a3182",
   "metadata": {},
   "source": [
    "### Analisis basico de los datos"
   ]
  },
  {
   "cell_type": "code",
   "execution_count": 10,
   "id": "c8291314",
   "metadata": {},
   "outputs": [
    {
     "data": {
      "text/html": [
       "<div>\n",
       "<style scoped>\n",
       "    .dataframe tbody tr th:only-of-type {\n",
       "        vertical-align: middle;\n",
       "    }\n",
       "\n",
       "    .dataframe tbody tr th {\n",
       "        vertical-align: top;\n",
       "    }\n",
       "\n",
       "    .dataframe thead th {\n",
       "        text-align: right;\n",
       "    }\n",
       "</style>\n",
       "<table border=\"1\" class=\"dataframe\">\n",
       "  <thead>\n",
       "    <tr style=\"text-align: right;\">\n",
       "      <th></th>\n",
       "      <th>Profundidad</th>\n",
       "      <th>Magnitud</th>\n",
       "    </tr>\n",
       "  </thead>\n",
       "  <tbody>\n",
       "    <tr>\n",
       "      <th>2134</th>\n",
       "      <td>256.7</td>\n",
       "      <td>5.300000</td>\n",
       "    </tr>\n",
       "    <tr>\n",
       "      <th>2150</th>\n",
       "      <td>334.0</td>\n",
       "      <td>5.000000</td>\n",
       "    </tr>\n",
       "    <tr>\n",
       "      <th>2098</th>\n",
       "      <td>231.6</td>\n",
       "      <td>5.000000</td>\n",
       "    </tr>\n",
       "    <tr>\n",
       "      <th>2090</th>\n",
       "      <td>228.1</td>\n",
       "      <td>5.000000</td>\n",
       "    </tr>\n",
       "    <tr>\n",
       "      <th>1929</th>\n",
       "      <td>196.8</td>\n",
       "      <td>4.800000</td>\n",
       "    </tr>\n",
       "    <tr>\n",
       "      <th>...</th>\n",
       "      <td>...</td>\n",
       "      <td>...</td>\n",
       "    </tr>\n",
       "    <tr>\n",
       "      <th>1920</th>\n",
       "      <td>195.3</td>\n",
       "      <td>3.400000</td>\n",
       "    </tr>\n",
       "    <tr>\n",
       "      <th>5</th>\n",
       "      <td>1.5</td>\n",
       "      <td>3.395000</td>\n",
       "    </tr>\n",
       "    <tr>\n",
       "      <th>6</th>\n",
       "      <td>1.6</td>\n",
       "      <td>3.371698</td>\n",
       "    </tr>\n",
       "    <tr>\n",
       "      <th>0</th>\n",
       "      <td>1.0</td>\n",
       "      <td>3.225284</td>\n",
       "    </tr>\n",
       "    <tr>\n",
       "      <th>1863</th>\n",
       "      <td>188.3</td>\n",
       "      <td>3.100000</td>\n",
       "    </tr>\n",
       "  </tbody>\n",
       "</table>\n",
       "<p>2152 rows × 2 columns</p>\n",
       "</div>"
      ],
      "text/plain": [
       "      Profundidad  Magnitud\n",
       "2134        256.7  5.300000\n",
       "2150        334.0  5.000000\n",
       "2098        231.6  5.000000\n",
       "2090        228.1  5.000000\n",
       "1929        196.8  4.800000\n",
       "...           ...       ...\n",
       "1920        195.3  3.400000\n",
       "5             1.5  3.395000\n",
       "6             1.6  3.371698\n",
       "0             1.0  3.225284\n",
       "1863        188.3  3.100000\n",
       "\n",
       "[2152 rows x 2 columns]"
      ]
     },
     "execution_count": 10,
     "metadata": {},
     "output_type": "execute_result"
    }
   ],
   "source": [
    "data_terremotos[[\"Profundidad\", \"Magnitud\"]].groupby([\"Profundidad\"], as_index = False).mean().sort_values(by=\"Magnitud\", ascending = False)"
   ]
  },
  {
   "cell_type": "markdown",
   "id": "09c1a041",
   "metadata": {},
   "source": [
    "### Terremotos con magnitud mayor a 7"
   ]
  },
  {
   "cell_type": "code",
   "execution_count": 11,
   "id": "92011414",
   "metadata": {},
   "outputs": [
    {
     "data": {
      "text/html": [
       "<div>\n",
       "<style scoped>\n",
       "    .dataframe tbody tr th:only-of-type {\n",
       "        vertical-align: middle;\n",
       "    }\n",
       "\n",
       "    .dataframe tbody tr th {\n",
       "        vertical-align: top;\n",
       "    }\n",
       "\n",
       "    .dataframe thead th {\n",
       "        text-align: right;\n",
       "    }\n",
       "</style>\n",
       "<table border=\"1\" class=\"dataframe\">\n",
       "  <thead>\n",
       "    <tr style=\"text-align: right;\">\n",
       "      <th></th>\n",
       "      <th>Magnitud</th>\n",
       "      <th>Profundidad</th>\n",
       "    </tr>\n",
       "  </thead>\n",
       "  <tbody>\n",
       "    <tr>\n",
       "      <th>11</th>\n",
       "      <td>8.2</td>\n",
       "      <td>39.450000</td>\n",
       "    </tr>\n",
       "    <tr>\n",
       "      <th>10</th>\n",
       "      <td>8.1</td>\n",
       "      <td>15.000000</td>\n",
       "    </tr>\n",
       "    <tr>\n",
       "      <th>9</th>\n",
       "      <td>8.0</td>\n",
       "      <td>25.000000</td>\n",
       "    </tr>\n",
       "    <tr>\n",
       "      <th>8</th>\n",
       "      <td>7.9</td>\n",
       "      <td>50.000000</td>\n",
       "    </tr>\n",
       "    <tr>\n",
       "      <th>7</th>\n",
       "      <td>7.8</td>\n",
       "      <td>35.333333</td>\n",
       "    </tr>\n",
       "    <tr>\n",
       "      <th>6</th>\n",
       "      <td>7.7</td>\n",
       "      <td>25.000000</td>\n",
       "    </tr>\n",
       "    <tr>\n",
       "      <th>5</th>\n",
       "      <td>7.6</td>\n",
       "      <td>26.444444</td>\n",
       "    </tr>\n",
       "    <tr>\n",
       "      <th>4</th>\n",
       "      <td>7.5</td>\n",
       "      <td>29.285714</td>\n",
       "    </tr>\n",
       "    <tr>\n",
       "      <th>3</th>\n",
       "      <td>7.4</td>\n",
       "      <td>43.080000</td>\n",
       "    </tr>\n",
       "    <tr>\n",
       "      <th>2</th>\n",
       "      <td>7.3</td>\n",
       "      <td>43.677778</td>\n",
       "    </tr>\n",
       "    <tr>\n",
       "      <th>1</th>\n",
       "      <td>7.2</td>\n",
       "      <td>42.444444</td>\n",
       "    </tr>\n",
       "    <tr>\n",
       "      <th>0</th>\n",
       "      <td>7.1</td>\n",
       "      <td>44.015385</td>\n",
       "    </tr>\n",
       "  </tbody>\n",
       "</table>\n",
       "</div>"
      ],
      "text/plain": [
       "    Magnitud  Profundidad\n",
       "11       8.2    39.450000\n",
       "10       8.1    15.000000\n",
       "9        8.0    25.000000\n",
       "8        7.9    50.000000\n",
       "7        7.8    35.333333\n",
       "6        7.7    25.000000\n",
       "5        7.6    26.444444\n",
       "4        7.5    29.285714\n",
       "3        7.4    43.080000\n",
       "2        7.3    43.677778\n",
       "1        7.2    42.444444\n",
       "0        7.1    44.015385"
      ]
     },
     "execution_count": 11,
     "metadata": {},
     "output_type": "execute_result"
    }
   ],
   "source": [
    "magnitudeFilter = data_terremotos.Magnitud > 7\n",
    "data_terremotos[magnitudeFilter][[\"Profundidad\", \"Magnitud\"]].groupby([\"Magnitud\"], as_index = False).mean().sort_values(by=\"Magnitud\", ascending = False)"
   ]
  },
  {
   "cell_type": "markdown",
   "id": "a4088c0f",
   "metadata": {},
   "source": [
    "La tabla anterior muestra los terremotos que sobrepasan los 7 grados y tambien muestra su profundidad"
   ]
  },
  {
   "cell_type": "code",
   "execution_count": 12,
   "id": "97137040",
   "metadata": {},
   "outputs": [
    {
     "data": {
      "text/plain": [
       "66"
      ]
     },
     "execution_count": 12,
     "metadata": {},
     "output_type": "execute_result"
    }
   ],
   "source": [
    "magnitude_seven=data_terremotos[data_terremotos['Magnitud']>7].count()[0]\n",
    "magnitude_seven"
   ]
  },
  {
   "cell_type": "code",
   "execution_count": 13,
   "id": "770d8203",
   "metadata": {},
   "outputs": [
    {
     "data": {
      "text/plain": [
       "3"
      ]
     },
     "execution_count": 13,
     "metadata": {},
     "output_type": "execute_result"
    }
   ],
   "source": [
    "magnitude_eight=data_terremotos[data_terremotos['Magnitud']>8].count()[0]\n",
    "magnitude_eight"
   ]
  },
  {
   "cell_type": "markdown",
   "id": "36ef9543",
   "metadata": {},
   "source": [
    "Con el filtrado anterior podemos notar que hay un numero grande de terremotos con magnitud mayor a 7 pero solo tenemos 3 que superan la magnitud de 8"
   ]
  },
  {
   "cell_type": "markdown",
   "id": "9a85266b",
   "metadata": {},
   "source": [
    "### Perdida de valores"
   ]
  },
  {
   "cell_type": "code",
   "execution_count": 14,
   "id": "07118202",
   "metadata": {},
   "outputs": [
    {
     "name": "stdout",
     "output_type": "stream",
     "text": [
      "\n",
      " Mostrando Valores NaN: \n",
      "         Fecha   Hora  Magnitud  Latitud  Longitud  Profundidad  \\\n",
      "0       False  False     False    False     False        False   \n",
      "1       False  False     False    False     False        False   \n",
      "2       False  False     False    False     False        False   \n",
      "3       False  False     False    False     False        False   \n",
      "4       False  False     False    False     False        False   \n",
      "...       ...    ...       ...      ...       ...          ...   \n",
      "222460  False  False     False    False     False        False   \n",
      "222461  False  False     False    False     False        False   \n",
      "222462  False  False     False    False     False        False   \n",
      "222463  False  False     False    False     False        False   \n",
      "222464  False  False     False    False     False        False   \n",
      "\n",
      "        Referencia de localizacion  Fecha UTC  Hora UTC  Estatus   anio  \n",
      "0                            False      False     False    False  False  \n",
      "1                            False      False     False    False  False  \n",
      "2                            False      False     False    False  False  \n",
      "3                            False      False     False    False  False  \n",
      "4                            False      False     False    False  False  \n",
      "...                            ...        ...       ...      ...    ...  \n",
      "222460                       False      False     False    False  False  \n",
      "222461                       False      False     False    False  False  \n",
      "222462                       False      False     False    False  False  \n",
      "222463                       False      False     False    False  False  \n",
      "222464                       False      False     False    False  False  \n",
      "\n",
      "[222465 rows x 11 columns]\n",
      "\n",
      " Mostarndo Valores NaN por columna: \n",
      " Fecha                             0\n",
      "Hora                              0\n",
      "Magnitud                      17649\n",
      "Latitud                           0\n",
      "Longitud                          0\n",
      "Profundidad                      66\n",
      "Referencia de localizacion        0\n",
      "Fecha UTC                         0\n",
      "Hora UTC                          0\n",
      "Estatus                           0\n",
      "anio                              0\n",
      "dtype: int64\n",
      "\n",
      " Numero de Valores Perdidos 17715\n"
     ]
    }
   ],
   "source": [
    "print(\"\\n Mostrando Valores NaN: \\n\",data_terremotos.isnull())\n",
    "print(\"\\n Mostarndo Valores NaN por columna: \\n\", data_terremotos.isnull().sum())\n",
    "print(\"\\n Numero de Valores Perdidos\", data_terremotos.isnull().sum().sum())"
   ]
  },
  {
   "cell_type": "markdown",
   "id": "e3f8537a",
   "metadata": {},
   "source": [
    "Una parte importante es no perder valores por lo tanto queremos saber si hay campos null, lo que significa que no tiene datos.\n",
    "Podemos observar que no tenemos datos o valores perdidos."
   ]
  },
  {
   "cell_type": "code",
   "execution_count": 15,
   "id": "969edc69",
   "metadata": {},
   "outputs": [
    {
     "data": {
      "text/html": [
       "<div>\n",
       "<style scoped>\n",
       "    .dataframe tbody tr th:only-of-type {\n",
       "        vertical-align: middle;\n",
       "    }\n",
       "\n",
       "    .dataframe tbody tr th {\n",
       "        vertical-align: top;\n",
       "    }\n",
       "\n",
       "    .dataframe thead th {\n",
       "        text-align: right;\n",
       "    }\n",
       "</style>\n",
       "<table border=\"1\" class=\"dataframe\">\n",
       "  <thead>\n",
       "    <tr style=\"text-align: right;\">\n",
       "      <th></th>\n",
       "      <th>Valores perdidos</th>\n",
       "      <th>Porcentaje</th>\n",
       "    </tr>\n",
       "  </thead>\n",
       "  <tbody>\n",
       "    <tr>\n",
       "      <th>Fecha</th>\n",
       "      <td>0</td>\n",
       "      <td>0.000000</td>\n",
       "    </tr>\n",
       "    <tr>\n",
       "      <th>Hora</th>\n",
       "      <td>0</td>\n",
       "      <td>0.000000</td>\n",
       "    </tr>\n",
       "    <tr>\n",
       "      <th>Magnitud</th>\n",
       "      <td>17649</td>\n",
       "      <td>7.933383</td>\n",
       "    </tr>\n",
       "    <tr>\n",
       "      <th>Latitud</th>\n",
       "      <td>0</td>\n",
       "      <td>0.000000</td>\n",
       "    </tr>\n",
       "    <tr>\n",
       "      <th>Longitud</th>\n",
       "      <td>0</td>\n",
       "      <td>0.000000</td>\n",
       "    </tr>\n",
       "    <tr>\n",
       "      <th>Profundidad</th>\n",
       "      <td>66</td>\n",
       "      <td>0.029668</td>\n",
       "    </tr>\n",
       "    <tr>\n",
       "      <th>Referencia de localizacion</th>\n",
       "      <td>0</td>\n",
       "      <td>0.000000</td>\n",
       "    </tr>\n",
       "    <tr>\n",
       "      <th>Fecha UTC</th>\n",
       "      <td>0</td>\n",
       "      <td>0.000000</td>\n",
       "    </tr>\n",
       "    <tr>\n",
       "      <th>Hora UTC</th>\n",
       "      <td>0</td>\n",
       "      <td>0.000000</td>\n",
       "    </tr>\n",
       "    <tr>\n",
       "      <th>Estatus</th>\n",
       "      <td>0</td>\n",
       "      <td>0.000000</td>\n",
       "    </tr>\n",
       "    <tr>\n",
       "      <th>anio</th>\n",
       "      <td>0</td>\n",
       "      <td>0.000000</td>\n",
       "    </tr>\n",
       "  </tbody>\n",
       "</table>\n",
       "</div>"
      ],
      "text/plain": [
       "                            Valores perdidos  Porcentaje\n",
       "Fecha                                      0    0.000000\n",
       "Hora                                       0    0.000000\n",
       "Magnitud                               17649    7.933383\n",
       "Latitud                                    0    0.000000\n",
       "Longitud                                   0    0.000000\n",
       "Profundidad                               66    0.029668\n",
       "Referencia de localizacion                 0    0.000000\n",
       "Fecha UTC                                  0    0.000000\n",
       "Hora UTC                                   0    0.000000\n",
       "Estatus                                    0    0.000000\n",
       "anio                                       0    0.000000"
      ]
     },
     "execution_count": 15,
     "metadata": {},
     "output_type": "execute_result"
    }
   ],
   "source": [
    "def perdida_val_tabla(data_terremotos):\n",
    "    perdida_val = data_terremotos.isnull().sum()\n",
    "    porcentaje_perdido = 100* data_terremotos.isnull().sum()/len(data_terremotos)\n",
    "    tabla = pd.concat([perdida_val, porcentaje_perdido], axis=1)\n",
    "    tabla = tabla.rename(\n",
    "    columns = {0: 'Valores perdidos', 1: 'Porcentaje'})\n",
    "    return tabla\n",
    "perdida_val_tabla(data_terremotos)"
   ]
  },
  {
   "cell_type": "markdown",
   "id": "2589cc19",
   "metadata": {},
   "source": [
    "La perdida de valores se puede ver de diferentes maneras, este caso utilizamos una función para que nos retorne una tabla para ver si tenemos valores perdidos.\n",
    "Para el caso de la magnitud si tenemos muchos valores perdidos, estos pueden contener un valor distinto a su tipo, por ejemplo sabemos que Magnitud es tipo float, eso quiere decir que los campos perdidos pueden ser strings u otro tipo de valor."
   ]
  },
  {
   "cell_type": "code",
   "execution_count": 16,
   "id": "b83c8ee4",
   "metadata": {},
   "outputs": [],
   "source": [
    "### Eliminacion de campos que no necesitamos"
   ]
  },
  {
   "cell_type": "code",
   "execution_count": 17,
   "id": "3bca7836",
   "metadata": {},
   "outputs": [
    {
     "data": {
      "text/plain": [
       "Index(['Fecha', 'Hora', 'Magnitud', 'Latitud', 'Longitud', 'Profundidad',\n",
       "       'Referencia de localizacion', 'Fecha UTC', 'Hora UTC', 'Estatus',\n",
       "       'anio'],\n",
       "      dtype='object')"
      ]
     },
     "execution_count": 17,
     "metadata": {},
     "output_type": "execute_result"
    }
   ],
   "source": [
    "data_terremotos.columns"
   ]
  },
  {
   "cell_type": "code",
   "execution_count": 18,
   "id": "507026ba",
   "metadata": {},
   "outputs": [],
   "source": [
    "data_terremotos = data_terremotos.drop(columns ='Fecha')\n",
    "data_terremotos = data_terremotos.drop(columns ='Hora')\n",
    "data_terremotos = data_terremotos.drop(columns ='Estatus')\n",
    "data_terremotos = data_terremotos.drop(columns ='Hora UTC')\n",
    "data_terremotos = data_terremotos.drop(columns ='Fecha UTC')\n",
    "data_terremotos = data_terremotos.drop(columns ='Referencia de localizacion')"
   ]
  },
  {
   "cell_type": "code",
   "execution_count": 19,
   "id": "71edae5e",
   "metadata": {},
   "outputs": [
    {
     "data": {
      "text/plain": [
       "Index(['Magnitud', 'Latitud', 'Longitud', 'Profundidad', 'anio'], dtype='object')"
      ]
     },
     "execution_count": 19,
     "metadata": {},
     "output_type": "execute_result"
    }
   ],
   "source": [
    "data_terremotos.columns"
   ]
  },
  {
   "cell_type": "markdown",
   "id": "e643b7d5",
   "metadata": {},
   "source": [
    "Con esto solo nos quedamos con las columnas de interes"
   ]
  },
  {
   "cell_type": "markdown",
   "id": "ed602898",
   "metadata": {},
   "source": [
    "## Visualización y analisis de los datos\n"
   ]
  },
  {
   "cell_type": "code",
   "execution_count": 20,
   "id": "5eaf52df",
   "metadata": {},
   "outputs": [
    {
     "data": {
      "application/vnd.plotly.v1+json": {
       "config": {
        "linkText": "Export to plot.ly",
        "plotlyServerURL": "https://plot.ly",
        "showLink": false
       },
       "data": [
        {
         "mode": "lines+markers",
         "type": "scatter",
         "x": [
          1900,
          1901,
          1902,
          1903,
          1905,
          1906,
          1907,
          1908,
          1909,
          1910,
          1911,
          1912,
          1914,
          1915,
          1916,
          1917,
          1918,
          1919,
          1920,
          1921,
          1922,
          1925,
          1928,
          1931,
          1932,
          1933,
          1934,
          1935,
          1937,
          1939,
          1940,
          1941,
          1942,
          1943,
          1944,
          1945,
          1946,
          1948,
          1950,
          1951,
          1953,
          1954,
          1955,
          1956,
          1957,
          1959,
          1960,
          1961,
          1962,
          1963,
          1964,
          1965,
          1968,
          1969,
          1970,
          1971,
          1972,
          1973,
          1974,
          1975,
          1976,
          1977,
          1978,
          1979,
          1980,
          1981,
          1982,
          1983,
          1984,
          1985,
          1986,
          1987,
          1988,
          1989,
          1990,
          1991,
          1992,
          1993,
          1994,
          1995,
          1996,
          1997,
          1998,
          1999,
          2000,
          2001,
          2002,
          2003,
          2004,
          2005,
          2006,
          2007,
          2008,
          2009,
          2010,
          2011,
          2012,
          2013,
          2014,
          2015,
          2016,
          2017,
          2018,
          2019,
          2020,
          2021
         ],
         "y": [
          2,
          2,
          4,
          1,
          2,
          1,
          2,
          3,
          4,
          2,
          4,
          2,
          1,
          2,
          2,
          1,
          2,
          1,
          2,
          2,
          1,
          3,
          6,
          2,
          7,
          2,
          3,
          2,
          4,
          2,
          2,
          1,
          3,
          3,
          2,
          4,
          2,
          4,
          5,
          2,
          2,
          1,
          3,
          1,
          2,
          2,
          1,
          1,
          2,
          1,
          2,
          2,
          3,
          3,
          3,
          1,
          2,
          2,
          139,
          194,
          189,
          109,
          186,
          290,
          294,
          106,
          176,
          262,
          200,
          244,
          130,
          99,
          1127,
          1030,
          795,
          724,
          613,
          915,
          622,
          678,
          789,
          1006,
          1022,
          1098,
          1043,
          1335,
          1688,
          1323,
          1346,
          1210,
          1356,
          1528,
          1958,
          2301,
          3462,
          4272,
          5243,
          5361,
          7607,
          10945,
          15547,
          26564,
          30407,
          26444,
          30130,
          10573
         ]
        }
       ],
       "layout": {
        "template": {
         "data": {
          "bar": [
           {
            "error_x": {
             "color": "#2a3f5f"
            },
            "error_y": {
             "color": "#2a3f5f"
            },
            "marker": {
             "line": {
              "color": "#E5ECF6",
              "width": 0.5
             },
             "pattern": {
              "fillmode": "overlay",
              "size": 10,
              "solidity": 0.2
             }
            },
            "type": "bar"
           }
          ],
          "barpolar": [
           {
            "marker": {
             "line": {
              "color": "#E5ECF6",
              "width": 0.5
             },
             "pattern": {
              "fillmode": "overlay",
              "size": 10,
              "solidity": 0.2
             }
            },
            "type": "barpolar"
           }
          ],
          "carpet": [
           {
            "aaxis": {
             "endlinecolor": "#2a3f5f",
             "gridcolor": "white",
             "linecolor": "white",
             "minorgridcolor": "white",
             "startlinecolor": "#2a3f5f"
            },
            "baxis": {
             "endlinecolor": "#2a3f5f",
             "gridcolor": "white",
             "linecolor": "white",
             "minorgridcolor": "white",
             "startlinecolor": "#2a3f5f"
            },
            "type": "carpet"
           }
          ],
          "choropleth": [
           {
            "colorbar": {
             "outlinewidth": 0,
             "ticks": ""
            },
            "type": "choropleth"
           }
          ],
          "contour": [
           {
            "colorbar": {
             "outlinewidth": 0,
             "ticks": ""
            },
            "colorscale": [
             [
              0,
              "#0d0887"
             ],
             [
              0.1111111111111111,
              "#46039f"
             ],
             [
              0.2222222222222222,
              "#7201a8"
             ],
             [
              0.3333333333333333,
              "#9c179e"
             ],
             [
              0.4444444444444444,
              "#bd3786"
             ],
             [
              0.5555555555555556,
              "#d8576b"
             ],
             [
              0.6666666666666666,
              "#ed7953"
             ],
             [
              0.7777777777777778,
              "#fb9f3a"
             ],
             [
              0.8888888888888888,
              "#fdca26"
             ],
             [
              1,
              "#f0f921"
             ]
            ],
            "type": "contour"
           }
          ],
          "contourcarpet": [
           {
            "colorbar": {
             "outlinewidth": 0,
             "ticks": ""
            },
            "type": "contourcarpet"
           }
          ],
          "heatmap": [
           {
            "colorbar": {
             "outlinewidth": 0,
             "ticks": ""
            },
            "colorscale": [
             [
              0,
              "#0d0887"
             ],
             [
              0.1111111111111111,
              "#46039f"
             ],
             [
              0.2222222222222222,
              "#7201a8"
             ],
             [
              0.3333333333333333,
              "#9c179e"
             ],
             [
              0.4444444444444444,
              "#bd3786"
             ],
             [
              0.5555555555555556,
              "#d8576b"
             ],
             [
              0.6666666666666666,
              "#ed7953"
             ],
             [
              0.7777777777777778,
              "#fb9f3a"
             ],
             [
              0.8888888888888888,
              "#fdca26"
             ],
             [
              1,
              "#f0f921"
             ]
            ],
            "type": "heatmap"
           }
          ],
          "heatmapgl": [
           {
            "colorbar": {
             "outlinewidth": 0,
             "ticks": ""
            },
            "colorscale": [
             [
              0,
              "#0d0887"
             ],
             [
              0.1111111111111111,
              "#46039f"
             ],
             [
              0.2222222222222222,
              "#7201a8"
             ],
             [
              0.3333333333333333,
              "#9c179e"
             ],
             [
              0.4444444444444444,
              "#bd3786"
             ],
             [
              0.5555555555555556,
              "#d8576b"
             ],
             [
              0.6666666666666666,
              "#ed7953"
             ],
             [
              0.7777777777777778,
              "#fb9f3a"
             ],
             [
              0.8888888888888888,
              "#fdca26"
             ],
             [
              1,
              "#f0f921"
             ]
            ],
            "type": "heatmapgl"
           }
          ],
          "histogram": [
           {
            "marker": {
             "pattern": {
              "fillmode": "overlay",
              "size": 10,
              "solidity": 0.2
             }
            },
            "type": "histogram"
           }
          ],
          "histogram2d": [
           {
            "colorbar": {
             "outlinewidth": 0,
             "ticks": ""
            },
            "colorscale": [
             [
              0,
              "#0d0887"
             ],
             [
              0.1111111111111111,
              "#46039f"
             ],
             [
              0.2222222222222222,
              "#7201a8"
             ],
             [
              0.3333333333333333,
              "#9c179e"
             ],
             [
              0.4444444444444444,
              "#bd3786"
             ],
             [
              0.5555555555555556,
              "#d8576b"
             ],
             [
              0.6666666666666666,
              "#ed7953"
             ],
             [
              0.7777777777777778,
              "#fb9f3a"
             ],
             [
              0.8888888888888888,
              "#fdca26"
             ],
             [
              1,
              "#f0f921"
             ]
            ],
            "type": "histogram2d"
           }
          ],
          "histogram2dcontour": [
           {
            "colorbar": {
             "outlinewidth": 0,
             "ticks": ""
            },
            "colorscale": [
             [
              0,
              "#0d0887"
             ],
             [
              0.1111111111111111,
              "#46039f"
             ],
             [
              0.2222222222222222,
              "#7201a8"
             ],
             [
              0.3333333333333333,
              "#9c179e"
             ],
             [
              0.4444444444444444,
              "#bd3786"
             ],
             [
              0.5555555555555556,
              "#d8576b"
             ],
             [
              0.6666666666666666,
              "#ed7953"
             ],
             [
              0.7777777777777778,
              "#fb9f3a"
             ],
             [
              0.8888888888888888,
              "#fdca26"
             ],
             [
              1,
              "#f0f921"
             ]
            ],
            "type": "histogram2dcontour"
           }
          ],
          "mesh3d": [
           {
            "colorbar": {
             "outlinewidth": 0,
             "ticks": ""
            },
            "type": "mesh3d"
           }
          ],
          "parcoords": [
           {
            "line": {
             "colorbar": {
              "outlinewidth": 0,
              "ticks": ""
             }
            },
            "type": "parcoords"
           }
          ],
          "pie": [
           {
            "automargin": true,
            "type": "pie"
           }
          ],
          "scatter": [
           {
            "marker": {
             "colorbar": {
              "outlinewidth": 0,
              "ticks": ""
             }
            },
            "type": "scatter"
           }
          ],
          "scatter3d": [
           {
            "line": {
             "colorbar": {
              "outlinewidth": 0,
              "ticks": ""
             }
            },
            "marker": {
             "colorbar": {
              "outlinewidth": 0,
              "ticks": ""
             }
            },
            "type": "scatter3d"
           }
          ],
          "scattercarpet": [
           {
            "marker": {
             "colorbar": {
              "outlinewidth": 0,
              "ticks": ""
             }
            },
            "type": "scattercarpet"
           }
          ],
          "scattergeo": [
           {
            "marker": {
             "colorbar": {
              "outlinewidth": 0,
              "ticks": ""
             }
            },
            "type": "scattergeo"
           }
          ],
          "scattergl": [
           {
            "marker": {
             "colorbar": {
              "outlinewidth": 0,
              "ticks": ""
             }
            },
            "type": "scattergl"
           }
          ],
          "scattermapbox": [
           {
            "marker": {
             "colorbar": {
              "outlinewidth": 0,
              "ticks": ""
             }
            },
            "type": "scattermapbox"
           }
          ],
          "scatterpolar": [
           {
            "marker": {
             "colorbar": {
              "outlinewidth": 0,
              "ticks": ""
             }
            },
            "type": "scatterpolar"
           }
          ],
          "scatterpolargl": [
           {
            "marker": {
             "colorbar": {
              "outlinewidth": 0,
              "ticks": ""
             }
            },
            "type": "scatterpolargl"
           }
          ],
          "scatterternary": [
           {
            "marker": {
             "colorbar": {
              "outlinewidth": 0,
              "ticks": ""
             }
            },
            "type": "scatterternary"
           }
          ],
          "surface": [
           {
            "colorbar": {
             "outlinewidth": 0,
             "ticks": ""
            },
            "colorscale": [
             [
              0,
              "#0d0887"
             ],
             [
              0.1111111111111111,
              "#46039f"
             ],
             [
              0.2222222222222222,
              "#7201a8"
             ],
             [
              0.3333333333333333,
              "#9c179e"
             ],
             [
              0.4444444444444444,
              "#bd3786"
             ],
             [
              0.5555555555555556,
              "#d8576b"
             ],
             [
              0.6666666666666666,
              "#ed7953"
             ],
             [
              0.7777777777777778,
              "#fb9f3a"
             ],
             [
              0.8888888888888888,
              "#fdca26"
             ],
             [
              1,
              "#f0f921"
             ]
            ],
            "type": "surface"
           }
          ],
          "table": [
           {
            "cells": {
             "fill": {
              "color": "#EBF0F8"
             },
             "line": {
              "color": "white"
             }
            },
            "header": {
             "fill": {
              "color": "#C8D4E3"
             },
             "line": {
              "color": "white"
             }
            },
            "type": "table"
           }
          ]
         },
         "layout": {
          "annotationdefaults": {
           "arrowcolor": "#2a3f5f",
           "arrowhead": 0,
           "arrowwidth": 1
          },
          "autotypenumbers": "strict",
          "coloraxis": {
           "colorbar": {
            "outlinewidth": 0,
            "ticks": ""
           }
          },
          "colorscale": {
           "diverging": [
            [
             0,
             "#8e0152"
            ],
            [
             0.1,
             "#c51b7d"
            ],
            [
             0.2,
             "#de77ae"
            ],
            [
             0.3,
             "#f1b6da"
            ],
            [
             0.4,
             "#fde0ef"
            ],
            [
             0.5,
             "#f7f7f7"
            ],
            [
             0.6,
             "#e6f5d0"
            ],
            [
             0.7,
             "#b8e186"
            ],
            [
             0.8,
             "#7fbc41"
            ],
            [
             0.9,
             "#4d9221"
            ],
            [
             1,
             "#276419"
            ]
           ],
           "sequential": [
            [
             0,
             "#0d0887"
            ],
            [
             0.1111111111111111,
             "#46039f"
            ],
            [
             0.2222222222222222,
             "#7201a8"
            ],
            [
             0.3333333333333333,
             "#9c179e"
            ],
            [
             0.4444444444444444,
             "#bd3786"
            ],
            [
             0.5555555555555556,
             "#d8576b"
            ],
            [
             0.6666666666666666,
             "#ed7953"
            ],
            [
             0.7777777777777778,
             "#fb9f3a"
            ],
            [
             0.8888888888888888,
             "#fdca26"
            ],
            [
             1,
             "#f0f921"
            ]
           ],
           "sequentialminus": [
            [
             0,
             "#0d0887"
            ],
            [
             0.1111111111111111,
             "#46039f"
            ],
            [
             0.2222222222222222,
             "#7201a8"
            ],
            [
             0.3333333333333333,
             "#9c179e"
            ],
            [
             0.4444444444444444,
             "#bd3786"
            ],
            [
             0.5555555555555556,
             "#d8576b"
            ],
            [
             0.6666666666666666,
             "#ed7953"
            ],
            [
             0.7777777777777778,
             "#fb9f3a"
            ],
            [
             0.8888888888888888,
             "#fdca26"
            ],
            [
             1,
             "#f0f921"
            ]
           ]
          },
          "colorway": [
           "#636efa",
           "#EF553B",
           "#00cc96",
           "#ab63fa",
           "#FFA15A",
           "#19d3f3",
           "#FF6692",
           "#B6E880",
           "#FF97FF",
           "#FECB52"
          ],
          "font": {
           "color": "#2a3f5f"
          },
          "geo": {
           "bgcolor": "white",
           "lakecolor": "white",
           "landcolor": "#E5ECF6",
           "showlakes": true,
           "showland": true,
           "subunitcolor": "white"
          },
          "hoverlabel": {
           "align": "left"
          },
          "hovermode": "closest",
          "mapbox": {
           "style": "light"
          },
          "paper_bgcolor": "white",
          "plot_bgcolor": "#E5ECF6",
          "polar": {
           "angularaxis": {
            "gridcolor": "white",
            "linecolor": "white",
            "ticks": ""
           },
           "bgcolor": "#E5ECF6",
           "radialaxis": {
            "gridcolor": "white",
            "linecolor": "white",
            "ticks": ""
           }
          },
          "scene": {
           "xaxis": {
            "backgroundcolor": "#E5ECF6",
            "gridcolor": "white",
            "gridwidth": 2,
            "linecolor": "white",
            "showbackground": true,
            "ticks": "",
            "zerolinecolor": "white"
           },
           "yaxis": {
            "backgroundcolor": "#E5ECF6",
            "gridcolor": "white",
            "gridwidth": 2,
            "linecolor": "white",
            "showbackground": true,
            "ticks": "",
            "zerolinecolor": "white"
           },
           "zaxis": {
            "backgroundcolor": "#E5ECF6",
            "gridcolor": "white",
            "gridwidth": 2,
            "linecolor": "white",
            "showbackground": true,
            "ticks": "",
            "zerolinecolor": "white"
           }
          },
          "shapedefaults": {
           "line": {
            "color": "#2a3f5f"
           }
          },
          "ternary": {
           "aaxis": {
            "gridcolor": "white",
            "linecolor": "white",
            "ticks": ""
           },
           "baxis": {
            "gridcolor": "white",
            "linecolor": "white",
            "ticks": ""
           },
           "bgcolor": "#E5ECF6",
           "caxis": {
            "gridcolor": "white",
            "linecolor": "white",
            "ticks": ""
           }
          },
          "title": {
           "x": 0.05
          },
          "xaxis": {
           "automargin": true,
           "gridcolor": "white",
           "linecolor": "white",
           "ticks": "",
           "title": {
            "standoff": 15
           },
           "zerolinecolor": "white",
           "zerolinewidth": 2
          },
          "yaxis": {
           "automargin": true,
           "gridcolor": "white",
           "linecolor": "white",
           "ticks": "",
           "title": {
            "standoff": 15
           },
           "zerolinecolor": "white",
           "zerolinewidth": 2
          }
         }
        },
        "title": {
         "text": "Terremotos por año"
        },
        "xaxis": {
         "title": {
          "text": "Año"
         }
        },
        "yaxis": {
         "title": {
          "text": "Cantidad de terremotos"
         }
        }
       }
      },
      "text/html": [
       "<div>                            <div id=\"6474b678-8be3-4347-b542-f5f4c463520c\" class=\"plotly-graph-div\" style=\"height:525px; width:100%;\"></div>            <script type=\"text/javascript\">                require([\"plotly\"], function(Plotly) {                    window.PLOTLYENV=window.PLOTLYENV || {};                                    if (document.getElementById(\"6474b678-8be3-4347-b542-f5f4c463520c\")) {                    Plotly.newPlot(                        \"6474b678-8be3-4347-b542-f5f4c463520c\",                        [{\"mode\":\"lines+markers\",\"x\":[1900,1901,1902,1903,1905,1906,1907,1908,1909,1910,1911,1912,1914,1915,1916,1917,1918,1919,1920,1921,1922,1925,1928,1931,1932,1933,1934,1935,1937,1939,1940,1941,1942,1943,1944,1945,1946,1948,1950,1951,1953,1954,1955,1956,1957,1959,1960,1961,1962,1963,1964,1965,1968,1969,1970,1971,1972,1973,1974,1975,1976,1977,1978,1979,1980,1981,1982,1983,1984,1985,1986,1987,1988,1989,1990,1991,1992,1993,1994,1995,1996,1997,1998,1999,2000,2001,2002,2003,2004,2005,2006,2007,2008,2009,2010,2011,2012,2013,2014,2015,2016,2017,2018,2019,2020,2021],\"y\":[2,2,4,1,2,1,2,3,4,2,4,2,1,2,2,1,2,1,2,2,1,3,6,2,7,2,3,2,4,2,2,1,3,3,2,4,2,4,5,2,2,1,3,1,2,2,1,1,2,1,2,2,3,3,3,1,2,2,139,194,189,109,186,290,294,106,176,262,200,244,130,99,1127,1030,795,724,613,915,622,678,789,1006,1022,1098,1043,1335,1688,1323,1346,1210,1356,1528,1958,2301,3462,4272,5243,5361,7607,10945,15547,26564,30407,26444,30130,10573],\"type\":\"scatter\"}],                        {\"template\":{\"data\":{\"barpolar\":[{\"marker\":{\"line\":{\"color\":\"#E5ECF6\",\"width\":0.5},\"pattern\":{\"fillmode\":\"overlay\",\"size\":10,\"solidity\":0.2}},\"type\":\"barpolar\"}],\"bar\":[{\"error_x\":{\"color\":\"#2a3f5f\"},\"error_y\":{\"color\":\"#2a3f5f\"},\"marker\":{\"line\":{\"color\":\"#E5ECF6\",\"width\":0.5},\"pattern\":{\"fillmode\":\"overlay\",\"size\":10,\"solidity\":0.2}},\"type\":\"bar\"}],\"carpet\":[{\"aaxis\":{\"endlinecolor\":\"#2a3f5f\",\"gridcolor\":\"white\",\"linecolor\":\"white\",\"minorgridcolor\":\"white\",\"startlinecolor\":\"#2a3f5f\"},\"baxis\":{\"endlinecolor\":\"#2a3f5f\",\"gridcolor\":\"white\",\"linecolor\":\"white\",\"minorgridcolor\":\"white\",\"startlinecolor\":\"#2a3f5f\"},\"type\":\"carpet\"}],\"choropleth\":[{\"colorbar\":{\"outlinewidth\":0,\"ticks\":\"\"},\"type\":\"choropleth\"}],\"contourcarpet\":[{\"colorbar\":{\"outlinewidth\":0,\"ticks\":\"\"},\"type\":\"contourcarpet\"}],\"contour\":[{\"colorbar\":{\"outlinewidth\":0,\"ticks\":\"\"},\"colorscale\":[[0.0,\"#0d0887\"],[0.1111111111111111,\"#46039f\"],[0.2222222222222222,\"#7201a8\"],[0.3333333333333333,\"#9c179e\"],[0.4444444444444444,\"#bd3786\"],[0.5555555555555556,\"#d8576b\"],[0.6666666666666666,\"#ed7953\"],[0.7777777777777778,\"#fb9f3a\"],[0.8888888888888888,\"#fdca26\"],[1.0,\"#f0f921\"]],\"type\":\"contour\"}],\"heatmapgl\":[{\"colorbar\":{\"outlinewidth\":0,\"ticks\":\"\"},\"colorscale\":[[0.0,\"#0d0887\"],[0.1111111111111111,\"#46039f\"],[0.2222222222222222,\"#7201a8\"],[0.3333333333333333,\"#9c179e\"],[0.4444444444444444,\"#bd3786\"],[0.5555555555555556,\"#d8576b\"],[0.6666666666666666,\"#ed7953\"],[0.7777777777777778,\"#fb9f3a\"],[0.8888888888888888,\"#fdca26\"],[1.0,\"#f0f921\"]],\"type\":\"heatmapgl\"}],\"heatmap\":[{\"colorbar\":{\"outlinewidth\":0,\"ticks\":\"\"},\"colorscale\":[[0.0,\"#0d0887\"],[0.1111111111111111,\"#46039f\"],[0.2222222222222222,\"#7201a8\"],[0.3333333333333333,\"#9c179e\"],[0.4444444444444444,\"#bd3786\"],[0.5555555555555556,\"#d8576b\"],[0.6666666666666666,\"#ed7953\"],[0.7777777777777778,\"#fb9f3a\"],[0.8888888888888888,\"#fdca26\"],[1.0,\"#f0f921\"]],\"type\":\"heatmap\"}],\"histogram2dcontour\":[{\"colorbar\":{\"outlinewidth\":0,\"ticks\":\"\"},\"colorscale\":[[0.0,\"#0d0887\"],[0.1111111111111111,\"#46039f\"],[0.2222222222222222,\"#7201a8\"],[0.3333333333333333,\"#9c179e\"],[0.4444444444444444,\"#bd3786\"],[0.5555555555555556,\"#d8576b\"],[0.6666666666666666,\"#ed7953\"],[0.7777777777777778,\"#fb9f3a\"],[0.8888888888888888,\"#fdca26\"],[1.0,\"#f0f921\"]],\"type\":\"histogram2dcontour\"}],\"histogram2d\":[{\"colorbar\":{\"outlinewidth\":0,\"ticks\":\"\"},\"colorscale\":[[0.0,\"#0d0887\"],[0.1111111111111111,\"#46039f\"],[0.2222222222222222,\"#7201a8\"],[0.3333333333333333,\"#9c179e\"],[0.4444444444444444,\"#bd3786\"],[0.5555555555555556,\"#d8576b\"],[0.6666666666666666,\"#ed7953\"],[0.7777777777777778,\"#fb9f3a\"],[0.8888888888888888,\"#fdca26\"],[1.0,\"#f0f921\"]],\"type\":\"histogram2d\"}],\"histogram\":[{\"marker\":{\"pattern\":{\"fillmode\":\"overlay\",\"size\":10,\"solidity\":0.2}},\"type\":\"histogram\"}],\"mesh3d\":[{\"colorbar\":{\"outlinewidth\":0,\"ticks\":\"\"},\"type\":\"mesh3d\"}],\"parcoords\":[{\"line\":{\"colorbar\":{\"outlinewidth\":0,\"ticks\":\"\"}},\"type\":\"parcoords\"}],\"pie\":[{\"automargin\":true,\"type\":\"pie\"}],\"scatter3d\":[{\"line\":{\"colorbar\":{\"outlinewidth\":0,\"ticks\":\"\"}},\"marker\":{\"colorbar\":{\"outlinewidth\":0,\"ticks\":\"\"}},\"type\":\"scatter3d\"}],\"scattercarpet\":[{\"marker\":{\"colorbar\":{\"outlinewidth\":0,\"ticks\":\"\"}},\"type\":\"scattercarpet\"}],\"scattergeo\":[{\"marker\":{\"colorbar\":{\"outlinewidth\":0,\"ticks\":\"\"}},\"type\":\"scattergeo\"}],\"scattergl\":[{\"marker\":{\"colorbar\":{\"outlinewidth\":0,\"ticks\":\"\"}},\"type\":\"scattergl\"}],\"scattermapbox\":[{\"marker\":{\"colorbar\":{\"outlinewidth\":0,\"ticks\":\"\"}},\"type\":\"scattermapbox\"}],\"scatterpolargl\":[{\"marker\":{\"colorbar\":{\"outlinewidth\":0,\"ticks\":\"\"}},\"type\":\"scatterpolargl\"}],\"scatterpolar\":[{\"marker\":{\"colorbar\":{\"outlinewidth\":0,\"ticks\":\"\"}},\"type\":\"scatterpolar\"}],\"scatter\":[{\"marker\":{\"colorbar\":{\"outlinewidth\":0,\"ticks\":\"\"}},\"type\":\"scatter\"}],\"scatterternary\":[{\"marker\":{\"colorbar\":{\"outlinewidth\":0,\"ticks\":\"\"}},\"type\":\"scatterternary\"}],\"surface\":[{\"colorbar\":{\"outlinewidth\":0,\"ticks\":\"\"},\"colorscale\":[[0.0,\"#0d0887\"],[0.1111111111111111,\"#46039f\"],[0.2222222222222222,\"#7201a8\"],[0.3333333333333333,\"#9c179e\"],[0.4444444444444444,\"#bd3786\"],[0.5555555555555556,\"#d8576b\"],[0.6666666666666666,\"#ed7953\"],[0.7777777777777778,\"#fb9f3a\"],[0.8888888888888888,\"#fdca26\"],[1.0,\"#f0f921\"]],\"type\":\"surface\"}],\"table\":[{\"cells\":{\"fill\":{\"color\":\"#EBF0F8\"},\"line\":{\"color\":\"white\"}},\"header\":{\"fill\":{\"color\":\"#C8D4E3\"},\"line\":{\"color\":\"white\"}},\"type\":\"table\"}]},\"layout\":{\"annotationdefaults\":{\"arrowcolor\":\"#2a3f5f\",\"arrowhead\":0,\"arrowwidth\":1},\"autotypenumbers\":\"strict\",\"coloraxis\":{\"colorbar\":{\"outlinewidth\":0,\"ticks\":\"\"}},\"colorscale\":{\"diverging\":[[0,\"#8e0152\"],[0.1,\"#c51b7d\"],[0.2,\"#de77ae\"],[0.3,\"#f1b6da\"],[0.4,\"#fde0ef\"],[0.5,\"#f7f7f7\"],[0.6,\"#e6f5d0\"],[0.7,\"#b8e186\"],[0.8,\"#7fbc41\"],[0.9,\"#4d9221\"],[1,\"#276419\"]],\"sequential\":[[0.0,\"#0d0887\"],[0.1111111111111111,\"#46039f\"],[0.2222222222222222,\"#7201a8\"],[0.3333333333333333,\"#9c179e\"],[0.4444444444444444,\"#bd3786\"],[0.5555555555555556,\"#d8576b\"],[0.6666666666666666,\"#ed7953\"],[0.7777777777777778,\"#fb9f3a\"],[0.8888888888888888,\"#fdca26\"],[1.0,\"#f0f921\"]],\"sequentialminus\":[[0.0,\"#0d0887\"],[0.1111111111111111,\"#46039f\"],[0.2222222222222222,\"#7201a8\"],[0.3333333333333333,\"#9c179e\"],[0.4444444444444444,\"#bd3786\"],[0.5555555555555556,\"#d8576b\"],[0.6666666666666666,\"#ed7953\"],[0.7777777777777778,\"#fb9f3a\"],[0.8888888888888888,\"#fdca26\"],[1.0,\"#f0f921\"]]},\"colorway\":[\"#636efa\",\"#EF553B\",\"#00cc96\",\"#ab63fa\",\"#FFA15A\",\"#19d3f3\",\"#FF6692\",\"#B6E880\",\"#FF97FF\",\"#FECB52\"],\"font\":{\"color\":\"#2a3f5f\"},\"geo\":{\"bgcolor\":\"white\",\"lakecolor\":\"white\",\"landcolor\":\"#E5ECF6\",\"showlakes\":true,\"showland\":true,\"subunitcolor\":\"white\"},\"hoverlabel\":{\"align\":\"left\"},\"hovermode\":\"closest\",\"mapbox\":{\"style\":\"light\"},\"paper_bgcolor\":\"white\",\"plot_bgcolor\":\"#E5ECF6\",\"polar\":{\"angularaxis\":{\"gridcolor\":\"white\",\"linecolor\":\"white\",\"ticks\":\"\"},\"bgcolor\":\"#E5ECF6\",\"radialaxis\":{\"gridcolor\":\"white\",\"linecolor\":\"white\",\"ticks\":\"\"}},\"scene\":{\"xaxis\":{\"backgroundcolor\":\"#E5ECF6\",\"gridcolor\":\"white\",\"gridwidth\":2,\"linecolor\":\"white\",\"showbackground\":true,\"ticks\":\"\",\"zerolinecolor\":\"white\"},\"yaxis\":{\"backgroundcolor\":\"#E5ECF6\",\"gridcolor\":\"white\",\"gridwidth\":2,\"linecolor\":\"white\",\"showbackground\":true,\"ticks\":\"\",\"zerolinecolor\":\"white\"},\"zaxis\":{\"backgroundcolor\":\"#E5ECF6\",\"gridcolor\":\"white\",\"gridwidth\":2,\"linecolor\":\"white\",\"showbackground\":true,\"ticks\":\"\",\"zerolinecolor\":\"white\"}},\"shapedefaults\":{\"line\":{\"color\":\"#2a3f5f\"}},\"ternary\":{\"aaxis\":{\"gridcolor\":\"white\",\"linecolor\":\"white\",\"ticks\":\"\"},\"baxis\":{\"gridcolor\":\"white\",\"linecolor\":\"white\",\"ticks\":\"\"},\"bgcolor\":\"#E5ECF6\",\"caxis\":{\"gridcolor\":\"white\",\"linecolor\":\"white\",\"ticks\":\"\"}},\"title\":{\"x\":0.05},\"xaxis\":{\"automargin\":true,\"gridcolor\":\"white\",\"linecolor\":\"white\",\"ticks\":\"\",\"title\":{\"standoff\":15},\"zerolinecolor\":\"white\",\"zerolinewidth\":2},\"yaxis\":{\"automargin\":true,\"gridcolor\":\"white\",\"linecolor\":\"white\",\"ticks\":\"\",\"title\":{\"standoff\":15},\"zerolinecolor\":\"white\",\"zerolinewidth\":2}}},\"title\":{\"text\":\"Terremotos por a\\u00f1o\"},\"xaxis\":{\"title\":{\"text\":\"A\\u00f1o\"}},\"yaxis\":{\"title\":{\"text\":\"Cantidad de terremotos\"}}},                        {\"responsive\": true}                    ).then(function(){\n",
       "                            \n",
       "var gd = document.getElementById('6474b678-8be3-4347-b542-f5f4c463520c');\n",
       "var x = new MutationObserver(function (mutations, observer) {{\n",
       "        var display = window.getComputedStyle(gd).display;\n",
       "        if (!display || display === 'none') {{\n",
       "            console.log([gd, 'removed!']);\n",
       "            Plotly.purge(gd);\n",
       "            observer.disconnect();\n",
       "        }}\n",
       "}});\n",
       "\n",
       "// Listen for the removal of the full notebook cells\n",
       "var notebookContainer = gd.closest('#notebook-container');\n",
       "if (notebookContainer) {{\n",
       "    x.observe(notebookContainer, {childList: true});\n",
       "}}\n",
       "\n",
       "// Listen for the clearing of the current output cell\n",
       "var outputEl = gd.closest('.output');\n",
       "if (outputEl) {{\n",
       "    x.observe(outputEl, {childList: true});\n",
       "}}\n",
       "\n",
       "                        })                };                });            </script>        </div>"
      ]
     },
     "metadata": {},
     "output_type": "display_data"
    }
   ],
   "source": [
    "terremotos_por_anio = data_terremotos.groupby('anio').count()['Magnitud']\n",
    "fig = go.Figure(data=go.Scatter(x=terremotos_por_anio.index,\n",
    "                                 y=terremotos_por_anio.values,\n",
    "                                 mode='lines+markers'))\n",
    "fig.update_layout(title='Terremotos por año',\n",
    "                   xaxis_title='Año',\n",
    "                   yaxis_title='Cantidad de terremotos')\n",
    "iplot(fig)"
   ]
  },
  {
   "cell_type": "markdown",
   "id": "9fb9b173",
   "metadata": {},
   "source": [
    "Vemos como se ha comportado los terremotos a travez de los años\n",
    "\n",
    "### Visualización con graficas Scatter"
   ]
  },
  {
   "cell_type": "code",
   "execution_count": 21,
   "id": "26439c3c",
   "metadata": {},
   "outputs": [
    {
     "data": {
      "image/png": "[encoded data removed]",
      "text/plain": [
       "<Figure size 432x288 with 1 Axes>"
      ]
     },
     "metadata": {
      "needs_background": "light"
     },
     "output_type": "display_data"
    }
   ],
   "source": [
    "plt.scatter(data_terremotos.anio, data_terremotos.Magnitud, color=\"yellow\")\n",
    "plt.xlabel(\"Año\")\n",
    "plt.ylabel(\"Magnitud\")\n",
    "plt.show()"
   ]
  },
  {
   "cell_type": "markdown",
   "id": "bdc98dd7",
   "metadata": {},
   "source": [
    "Se puede notar que aproximadamente desde la decada de los 70's la cantidad de terremotos registrados han aumentado, aun que esto tambien puede ser al incremento de la tecnología ya que gracias a ella podemos registrar más de los que se registraban antes."
   ]
  },
  {
   "cell_type": "code",
   "execution_count": 22,
   "id": "138977de",
   "metadata": {},
   "outputs": [
    {
     "data": {
      "image/png": "[encoded data removed]",
      "text/plain": [
       "<Figure size 432x288 with 1 Axes>"
      ]
     },
     "metadata": {
      "needs_background": "light"
     },
     "output_type": "display_data"
    }
   ],
   "source": [
    "plt.scatter(data_terremotos.Profundidad, data_terremotos.Magnitud, color=\"blue\")\n",
    "plt.xlabel(\"Profundidad\")\n",
    "plt.ylabel(\"Magnitud\")\n",
    "plt.show()"
   ]
  },
  {
   "cell_type": "markdown",
   "id": "e10cb10a",
   "metadata": {},
   "source": [
    "Como podemos notar nuestro pais tiene una gran variedad de terremotos profundos, aun que si ponemos atención hay muchos otros que no lo son, los terremotos poco profundos pueden ser muy peligrosos debido a su cercanía con la superficie y por lo tanto son mas destructivos.\n",
    "### Terremotos con Magnitud mayor a 6"
   ]
  },
  {
   "cell_type": "code",
   "execution_count": 23,
   "id": "064007ed",
   "metadata": {},
   "outputs": [
    {
     "data": {
      "text/html": [
       "<div>\n",
       "<style scoped>\n",
       "    .dataframe tbody tr th:only-of-type {\n",
       "        vertical-align: middle;\n",
       "    }\n",
       "\n",
       "    .dataframe tbody tr th {\n",
       "        vertical-align: top;\n",
       "    }\n",
       "\n",
       "    .dataframe thead th {\n",
       "        text-align: right;\n",
       "    }\n",
       "</style>\n",
       "<table border=\"1\" class=\"dataframe\">\n",
       "  <thead>\n",
       "    <tr style=\"text-align: right;\">\n",
       "      <th></th>\n",
       "      <th>Magnitud</th>\n",
       "      <th>Latitud</th>\n",
       "      <th>Longitud</th>\n",
       "      <th>Profundidad</th>\n",
       "      <th>anio</th>\n",
       "      <th>Magnitud &gt; 6</th>\n",
       "    </tr>\n",
       "  </thead>\n",
       "  <tbody>\n",
       "    <tr>\n",
       "      <th>0</th>\n",
       "      <td>7.4</td>\n",
       "      <td>20.00</td>\n",
       "      <td>-105.00</td>\n",
       "      <td>33.0</td>\n",
       "      <td>1900</td>\n",
       "      <td>True</td>\n",
       "    </tr>\n",
       "    <tr>\n",
       "      <th>1</th>\n",
       "      <td>6.9</td>\n",
       "      <td>20.00</td>\n",
       "      <td>-105.00</td>\n",
       "      <td>33.0</td>\n",
       "      <td>1900</td>\n",
       "      <td>True</td>\n",
       "    </tr>\n",
       "    <tr>\n",
       "      <th>2</th>\n",
       "      <td>6.9</td>\n",
       "      <td>25.00</td>\n",
       "      <td>-110.00</td>\n",
       "      <td>33.0</td>\n",
       "      <td>1901</td>\n",
       "      <td>True</td>\n",
       "    </tr>\n",
       "    <tr>\n",
       "      <th>3</th>\n",
       "      <td>7.0</td>\n",
       "      <td>26.00</td>\n",
       "      <td>-110.00</td>\n",
       "      <td>33.0</td>\n",
       "      <td>1901</td>\n",
       "      <td>True</td>\n",
       "    </tr>\n",
       "    <tr>\n",
       "      <th>4</th>\n",
       "      <td>7.0</td>\n",
       "      <td>17.62</td>\n",
       "      <td>-99.72</td>\n",
       "      <td>33.0</td>\n",
       "      <td>1902</td>\n",
       "      <td>True</td>\n",
       "    </tr>\n",
       "    <tr>\n",
       "      <th>...</th>\n",
       "      <td>...</td>\n",
       "      <td>...</td>\n",
       "      <td>...</td>\n",
       "      <td>...</td>\n",
       "      <td>...</td>\n",
       "      <td>...</td>\n",
       "    </tr>\n",
       "    <tr>\n",
       "      <th>222460</th>\n",
       "      <td>3.5</td>\n",
       "      <td>16.29</td>\n",
       "      <td>-98.19</td>\n",
       "      <td>21.0</td>\n",
       "      <td>2021</td>\n",
       "      <td>False</td>\n",
       "    </tr>\n",
       "    <tr>\n",
       "      <th>222461</th>\n",
       "      <td>3.4</td>\n",
       "      <td>20.40</td>\n",
       "      <td>-105.16</td>\n",
       "      <td>5.0</td>\n",
       "      <td>2021</td>\n",
       "      <td>False</td>\n",
       "    </tr>\n",
       "    <tr>\n",
       "      <th>222462</th>\n",
       "      <td>3.5</td>\n",
       "      <td>15.89</td>\n",
       "      <td>-98.44</td>\n",
       "      <td>8.0</td>\n",
       "      <td>2021</td>\n",
       "      <td>False</td>\n",
       "    </tr>\n",
       "    <tr>\n",
       "      <th>222463</th>\n",
       "      <td>3.4</td>\n",
       "      <td>17.14</td>\n",
       "      <td>-99.07</td>\n",
       "      <td>51.0</td>\n",
       "      <td>2021</td>\n",
       "      <td>False</td>\n",
       "    </tr>\n",
       "    <tr>\n",
       "      <th>222464</th>\n",
       "      <td>4.3</td>\n",
       "      <td>17.78</td>\n",
       "      <td>-93.72</td>\n",
       "      <td>3.0</td>\n",
       "      <td>2021</td>\n",
       "      <td>False</td>\n",
       "    </tr>\n",
       "  </tbody>\n",
       "</table>\n",
       "<p>222465 rows × 6 columns</p>\n",
       "</div>"
      ],
      "text/plain": [
       "        Magnitud  Latitud  Longitud  Profundidad  anio  Magnitud > 6\n",
       "0            7.4    20.00   -105.00         33.0  1900          True\n",
       "1            6.9    20.00   -105.00         33.0  1900          True\n",
       "2            6.9    25.00   -110.00         33.0  1901          True\n",
       "3            7.0    26.00   -110.00         33.0  1901          True\n",
       "4            7.0    17.62    -99.72         33.0  1902          True\n",
       "...          ...      ...       ...          ...   ...           ...\n",
       "222460       3.5    16.29    -98.19         21.0  2021         False\n",
       "222461       3.4    20.40   -105.16          5.0  2021         False\n",
       "222462       3.5    15.89    -98.44          8.0  2021         False\n",
       "222463       3.4    17.14    -99.07         51.0  2021         False\n",
       "222464       4.3    17.78    -93.72          3.0  2021         False\n",
       "\n",
       "[222465 rows x 6 columns]"
      ]
     },
     "execution_count": 23,
     "metadata": {},
     "output_type": "execute_result"
    }
   ],
   "source": [
    "def mayor_a_6(Magnitud):\n",
    "    return (Magnitud > 6)\n",
    "data_terremotos['Magnitud > 6'] = data_terremotos['Magnitud'].apply(mayor_a_6)\n",
    "data_terremotos"
   ]
  },
  {
   "cell_type": "markdown",
   "id": "2cdf481c",
   "metadata": {},
   "source": [
    "Agregamos una columna que nos dice a travez de un bobleano si este tiene una magnitud mayor a 6"
   ]
  },
  {
   "cell_type": "code",
   "execution_count": 24,
   "id": "60e8fb7e",
   "metadata": {},
   "outputs": [
    {
     "data": {
      "image/png": "[encoded data removed]",
      "text/plain": [
       "<Figure size 432x288 with 1 Axes>"
      ]
     },
     "metadata": {
      "needs_background": "light"
     },
     "output_type": "display_data"
    }
   ],
   "source": [
    "sns.countplot(x=\"Magnitud > 6\", data = data_terremotos)\n",
    "plt.show()"
   ]
  },
  {
   "cell_type": "markdown",
   "id": "0a170deb",
   "metadata": {},
   "source": [
    "La grafica anterior muestra que a pesar de ser un país con actividad sismica la mayoria de los terremotos nos son peligrosos\n",
    "### Clase Terremoto"
   ]
  },
  {
   "cell_type": "code",
   "execution_count": 25,
   "id": "184125e3",
   "metadata": {},
   "outputs": [
    {
     "data": {
      "text/html": [
       "<div>\n",
       "<style scoped>\n",
       "    .dataframe tbody tr th:only-of-type {\n",
       "        vertical-align: middle;\n",
       "    }\n",
       "\n",
       "    .dataframe tbody tr th {\n",
       "        vertical-align: top;\n",
       "    }\n",
       "\n",
       "    .dataframe thead th {\n",
       "        text-align: right;\n",
       "    }\n",
       "</style>\n",
       "<table border=\"1\" class=\"dataframe\">\n",
       "  <thead>\n",
       "    <tr style=\"text-align: right;\">\n",
       "      <th></th>\n",
       "      <th>Magnitud</th>\n",
       "      <th>Latitud</th>\n",
       "      <th>Longitud</th>\n",
       "      <th>Profundidad</th>\n",
       "      <th>anio</th>\n",
       "      <th>Magnitud &gt; 6</th>\n",
       "      <th>Class</th>\n",
       "    </tr>\n",
       "  </thead>\n",
       "  <tbody>\n",
       "    <tr>\n",
       "      <th>0</th>\n",
       "      <td>7.4</td>\n",
       "      <td>20.00</td>\n",
       "      <td>-105.00</td>\n",
       "      <td>33.0</td>\n",
       "      <td>1900</td>\n",
       "      <td>True</td>\n",
       "      <td>bajo</td>\n",
       "    </tr>\n",
       "    <tr>\n",
       "      <th>1</th>\n",
       "      <td>6.9</td>\n",
       "      <td>20.00</td>\n",
       "      <td>-105.00</td>\n",
       "      <td>33.0</td>\n",
       "      <td>1900</td>\n",
       "      <td>True</td>\n",
       "      <td>bajo</td>\n",
       "    </tr>\n",
       "    <tr>\n",
       "      <th>2</th>\n",
       "      <td>6.9</td>\n",
       "      <td>25.00</td>\n",
       "      <td>-110.00</td>\n",
       "      <td>33.0</td>\n",
       "      <td>1901</td>\n",
       "      <td>True</td>\n",
       "      <td>bajo</td>\n",
       "    </tr>\n",
       "    <tr>\n",
       "      <th>3</th>\n",
       "      <td>7.0</td>\n",
       "      <td>26.00</td>\n",
       "      <td>-110.00</td>\n",
       "      <td>33.0</td>\n",
       "      <td>1901</td>\n",
       "      <td>True</td>\n",
       "      <td>bajo</td>\n",
       "    </tr>\n",
       "    <tr>\n",
       "      <th>4</th>\n",
       "      <td>7.0</td>\n",
       "      <td>17.62</td>\n",
       "      <td>-99.72</td>\n",
       "      <td>33.0</td>\n",
       "      <td>1902</td>\n",
       "      <td>True</td>\n",
       "      <td>bajo</td>\n",
       "    </tr>\n",
       "    <tr>\n",
       "      <th>...</th>\n",
       "      <td>...</td>\n",
       "      <td>...</td>\n",
       "      <td>...</td>\n",
       "      <td>...</td>\n",
       "      <td>...</td>\n",
       "      <td>...</td>\n",
       "      <td>...</td>\n",
       "    </tr>\n",
       "    <tr>\n",
       "      <th>222460</th>\n",
       "      <td>3.5</td>\n",
       "      <td>16.29</td>\n",
       "      <td>-98.19</td>\n",
       "      <td>21.0</td>\n",
       "      <td>2021</td>\n",
       "      <td>False</td>\n",
       "      <td>bajo</td>\n",
       "    </tr>\n",
       "    <tr>\n",
       "      <th>222461</th>\n",
       "      <td>3.4</td>\n",
       "      <td>20.40</td>\n",
       "      <td>-105.16</td>\n",
       "      <td>5.0</td>\n",
       "      <td>2021</td>\n",
       "      <td>False</td>\n",
       "      <td>bajo</td>\n",
       "    </tr>\n",
       "    <tr>\n",
       "      <th>222462</th>\n",
       "      <td>3.5</td>\n",
       "      <td>15.89</td>\n",
       "      <td>-98.44</td>\n",
       "      <td>8.0</td>\n",
       "      <td>2021</td>\n",
       "      <td>False</td>\n",
       "      <td>bajo</td>\n",
       "    </tr>\n",
       "    <tr>\n",
       "      <th>222463</th>\n",
       "      <td>3.4</td>\n",
       "      <td>17.14</td>\n",
       "      <td>-99.07</td>\n",
       "      <td>51.0</td>\n",
       "      <td>2021</td>\n",
       "      <td>False</td>\n",
       "      <td>bajo</td>\n",
       "    </tr>\n",
       "    <tr>\n",
       "      <th>222464</th>\n",
       "      <td>4.3</td>\n",
       "      <td>17.78</td>\n",
       "      <td>-93.72</td>\n",
       "      <td>3.0</td>\n",
       "      <td>2021</td>\n",
       "      <td>False</td>\n",
       "      <td>bajo</td>\n",
       "    </tr>\n",
       "  </tbody>\n",
       "</table>\n",
       "<p>222465 rows × 7 columns</p>\n",
       "</div>"
      ],
      "text/plain": [
       "        Magnitud  Latitud  Longitud  Profundidad  anio  Magnitud > 6 Class\n",
       "0            7.4    20.00   -105.00         33.0  1900          True  bajo\n",
       "1            6.9    20.00   -105.00         33.0  1900          True  bajo\n",
       "2            6.9    25.00   -110.00         33.0  1901          True  bajo\n",
       "3            7.0    26.00   -110.00         33.0  1901          True  bajo\n",
       "4            7.0    17.62    -99.72         33.0  1902          True  bajo\n",
       "...          ...      ...       ...          ...   ...           ...   ...\n",
       "222460       3.5    16.29    -98.19         21.0  2021         False  bajo\n",
       "222461       3.4    20.40   -105.16          5.0  2021         False  bajo\n",
       "222462       3.5    15.89    -98.44          8.0  2021         False  bajo\n",
       "222463       3.4    17.14    -99.07         51.0  2021         False  bajo\n",
       "222464       4.3    17.78    -93.72          3.0  2021         False  bajo\n",
       "\n",
       "[222465 rows x 7 columns]"
      ]
     },
     "execution_count": 25,
     "metadata": {},
     "output_type": "execute_result"
    }
   ],
   "source": [
    "data_terremotos.loc[data_terremotos['Profundidad'] > 300, 'Class'] = 'profundo'\n",
    "data_terremotos.loc[(data_terremotos['Profundidad'] >= 70) & (data_terremotos['Profundidad'] < 300) , 'Class'] = 'medio'\n",
    "data_terremotos.loc[(data_terremotos['Profundidad'] < 70), 'Class'] = 'bajo'\n",
    "\n",
    "data_terremotos"
   ]
  },
  {
   "cell_type": "markdown",
   "id": "1891ece7",
   "metadata": {},
   "source": [
    "Agregamos una clase o columna que nos permite saber la profundidad den cada terremoto"
   ]
  },
  {
   "cell_type": "code",
   "execution_count": 26,
   "id": "d35c2939",
   "metadata": {},
   "outputs": [
    {
     "data": {
      "image/png": "[encoded data removed]",
      "text/plain": [
       "<Figure size 432x288 with 1 Axes>"
      ]
     },
     "metadata": {
      "needs_background": "light"
     },
     "output_type": "display_data"
    }
   ],
   "source": [
    "sns.countplot(x=\"Class\", data=data_terremotos)\n",
    "plt.title(\"Cantidad por profundidad\")\n",
    "plt.show()"
   ]
  },
  {
   "cell_type": "markdown",
   "id": "5e9f193f",
   "metadata": {},
   "source": [
    "Con la grafica anterior podemos notar que la mayoria de los terremotos son poco profundos, sabemos que de esa porción son terremotos con poca magnitud lo que los hace inofensivos, sin embargo, hay otros que incluso superando los 6 grados se vuelven peligrosos.\n",
    "### Terremotos destructivos"
   ]
  },
  {
   "cell_type": "code",
   "execution_count": 27,
   "id": "8e43fbdb",
   "metadata": {},
   "outputs": [
    {
     "data": {
      "text/html": [
       "<div>\n",
       "<style scoped>\n",
       "    .dataframe tbody tr th:only-of-type {\n",
       "        vertical-align: middle;\n",
       "    }\n",
       "\n",
       "    .dataframe tbody tr th {\n",
       "        vertical-align: top;\n",
       "    }\n",
       "\n",
       "    .dataframe thead th {\n",
       "        text-align: right;\n",
       "    }\n",
       "</style>\n",
       "<table border=\"1\" class=\"dataframe\">\n",
       "  <thead>\n",
       "    <tr style=\"text-align: right;\">\n",
       "      <th></th>\n",
       "      <th>Magnitud</th>\n",
       "      <th>Latitud</th>\n",
       "      <th>Longitud</th>\n",
       "      <th>Profundidad</th>\n",
       "      <th>anio</th>\n",
       "      <th>Magnitud &gt; 6</th>\n",
       "      <th>Class</th>\n",
       "      <th>Description</th>\n",
       "    </tr>\n",
       "  </thead>\n",
       "  <tbody>\n",
       "    <tr>\n",
       "      <th>0</th>\n",
       "      <td>7.4</td>\n",
       "      <td>20.00</td>\n",
       "      <td>-105.00</td>\n",
       "      <td>33.0</td>\n",
       "      <td>1900</td>\n",
       "      <td>True</td>\n",
       "      <td>bajo</td>\n",
       "      <td>Terremoto peligroso</td>\n",
       "    </tr>\n",
       "    <tr>\n",
       "      <th>1</th>\n",
       "      <td>6.9</td>\n",
       "      <td>20.00</td>\n",
       "      <td>-105.00</td>\n",
       "      <td>33.0</td>\n",
       "      <td>1900</td>\n",
       "      <td>True</td>\n",
       "      <td>bajo</td>\n",
       "      <td>Terremoto con probabilidad de peligro</td>\n",
       "    </tr>\n",
       "    <tr>\n",
       "      <th>2</th>\n",
       "      <td>6.9</td>\n",
       "      <td>25.00</td>\n",
       "      <td>-110.00</td>\n",
       "      <td>33.0</td>\n",
       "      <td>1901</td>\n",
       "      <td>True</td>\n",
       "      <td>bajo</td>\n",
       "      <td>Terremoto con probabilidad de peligro</td>\n",
       "    </tr>\n",
       "    <tr>\n",
       "      <th>3</th>\n",
       "      <td>7.0</td>\n",
       "      <td>26.00</td>\n",
       "      <td>-110.00</td>\n",
       "      <td>33.0</td>\n",
       "      <td>1901</td>\n",
       "      <td>True</td>\n",
       "      <td>bajo</td>\n",
       "      <td>Terremoto peligroso</td>\n",
       "    </tr>\n",
       "    <tr>\n",
       "      <th>4</th>\n",
       "      <td>7.0</td>\n",
       "      <td>17.62</td>\n",
       "      <td>-99.72</td>\n",
       "      <td>33.0</td>\n",
       "      <td>1902</td>\n",
       "      <td>True</td>\n",
       "      <td>bajo</td>\n",
       "      <td>Terremoto peligroso</td>\n",
       "    </tr>\n",
       "    <tr>\n",
       "      <th>...</th>\n",
       "      <td>...</td>\n",
       "      <td>...</td>\n",
       "      <td>...</td>\n",
       "      <td>...</td>\n",
       "      <td>...</td>\n",
       "      <td>...</td>\n",
       "      <td>...</td>\n",
       "      <td>...</td>\n",
       "    </tr>\n",
       "    <tr>\n",
       "      <th>222460</th>\n",
       "      <td>3.5</td>\n",
       "      <td>16.29</td>\n",
       "      <td>-98.19</td>\n",
       "      <td>21.0</td>\n",
       "      <td>2021</td>\n",
       "      <td>False</td>\n",
       "      <td>bajo</td>\n",
       "      <td>Terremoto sin peligro</td>\n",
       "    </tr>\n",
       "    <tr>\n",
       "      <th>222461</th>\n",
       "      <td>3.4</td>\n",
       "      <td>20.40</td>\n",
       "      <td>-105.16</td>\n",
       "      <td>5.0</td>\n",
       "      <td>2021</td>\n",
       "      <td>False</td>\n",
       "      <td>bajo</td>\n",
       "      <td>Terremoto sin peligro</td>\n",
       "    </tr>\n",
       "    <tr>\n",
       "      <th>222462</th>\n",
       "      <td>3.5</td>\n",
       "      <td>15.89</td>\n",
       "      <td>-98.44</td>\n",
       "      <td>8.0</td>\n",
       "      <td>2021</td>\n",
       "      <td>False</td>\n",
       "      <td>bajo</td>\n",
       "      <td>Terremoto sin peligro</td>\n",
       "    </tr>\n",
       "    <tr>\n",
       "      <th>222463</th>\n",
       "      <td>3.4</td>\n",
       "      <td>17.14</td>\n",
       "      <td>-99.07</td>\n",
       "      <td>51.0</td>\n",
       "      <td>2021</td>\n",
       "      <td>False</td>\n",
       "      <td>bajo</td>\n",
       "      <td>Terremoto sin peligro</td>\n",
       "    </tr>\n",
       "    <tr>\n",
       "      <th>222464</th>\n",
       "      <td>4.3</td>\n",
       "      <td>17.78</td>\n",
       "      <td>-93.72</td>\n",
       "      <td>3.0</td>\n",
       "      <td>2021</td>\n",
       "      <td>False</td>\n",
       "      <td>bajo</td>\n",
       "      <td>Terremoto sin peligro</td>\n",
       "    </tr>\n",
       "  </tbody>\n",
       "</table>\n",
       "<p>222465 rows × 8 columns</p>\n",
       "</div>"
      ],
      "text/plain": [
       "        Magnitud  Latitud  Longitud  Profundidad  anio  Magnitud > 6 Class  \\\n",
       "0            7.4    20.00   -105.00         33.0  1900          True  bajo   \n",
       "1            6.9    20.00   -105.00         33.0  1900          True  bajo   \n",
       "2            6.9    25.00   -110.00         33.0  1901          True  bajo   \n",
       "3            7.0    26.00   -110.00         33.0  1901          True  bajo   \n",
       "4            7.0    17.62    -99.72         33.0  1902          True  bajo   \n",
       "...          ...      ...       ...          ...   ...           ...   ...   \n",
       "222460       3.5    16.29    -98.19         21.0  2021         False  bajo   \n",
       "222461       3.4    20.40   -105.16          5.0  2021         False  bajo   \n",
       "222462       3.5    15.89    -98.44          8.0  2021         False  bajo   \n",
       "222463       3.4    17.14    -99.07         51.0  2021         False  bajo   \n",
       "222464       4.3    17.78    -93.72          3.0  2021         False  bajo   \n",
       "\n",
       "                                  Description  \n",
       "0                         Terremoto peligroso  \n",
       "1       Terremoto con probabilidad de peligro  \n",
       "2       Terremoto con probabilidad de peligro  \n",
       "3                         Terremoto peligroso  \n",
       "4                         Terremoto peligroso  \n",
       "...                                       ...  \n",
       "222460                  Terremoto sin peligro  \n",
       "222461                  Terremoto sin peligro  \n",
       "222462                  Terremoto sin peligro  \n",
       "222463                  Terremoto sin peligro  \n",
       "222464                  Terremoto sin peligro  \n",
       "\n",
       "[222465 rows x 8 columns]"
      ]
     },
     "execution_count": 27,
     "metadata": {},
     "output_type": "execute_result"
    }
   ],
   "source": [
    "data_terremotos.loc[data_terremotos['Magnitud'] <= 5, 'Description'] = 'Terremoto sin peligro'\n",
    "data_terremotos.loc[(data_terremotos['Magnitud'] >= 5) & (data_terremotos['Magnitud'] <= 6),'Description'] = 'Terremoto que puede causar daños a estructuras'\n",
    "data_terremotos.loc[(data_terremotos['Magnitud'] > 6) & (data_terremotos['Magnitud'] < 7),'Description'] = 'Terremoto con probabilidad de peligro'\n",
    "data_terremotos.loc[(data_terremotos['Magnitud'] >= 7) & (data_terremotos['Magnitud'] < 8),'Description'] = 'Terremoto peligroso'\n",
    "data_terremotos.loc[(data_terremotos['Magnitud'] >= 8), 'Description'] = 'Terremoto destructivo'\n",
    "data_terremotos"
   ]
  },
  {
   "cell_type": "markdown",
   "id": "45999936",
   "metadata": {},
   "source": [
    "Podemos agregar una columna mas con una descripción de que tan peligoroso ha sido el terremoto segun su magnitud"
   ]
  },
  {
   "cell_type": "code",
   "execution_count": 28,
   "id": "39b4fc14",
   "metadata": {},
   "outputs": [
    {
     "data": {
      "image/png": "[encoded data removed]",
      "text/plain": [
       "<Figure size 432x288 with 1 Axes>"
      ]
     },
     "metadata": {
      "needs_background": "light"
     },
     "output_type": "display_data"
    }
   ],
   "source": [
    "sns.countplot(x='Description', data=data_terremotos)\n",
    "plt.title('Clasificación de terremotos')\n",
    "plt.xticks(rotation = 90)\n",
    "plt.show()"
   ]
  },
  {
   "cell_type": "markdown",
   "id": "880a488b",
   "metadata": {},
   "source": [
    "En la grafica anterior se muestra los terremotos segun su magnitud y que tan peligrosos fueron, México es un país con actividad sismica, sin embargo, la mayoria de ellos no son un peligro, aunque sabes que 1 o 2 grados pueden hacer la diferencia.\n"
   ]
  },
  {
   "cell_type": "code",
   "execution_count": 29,
   "id": "b99525f7",
   "metadata": {},
   "outputs": [
    {
     "data": {
      "text/html": [
       "<div>\n",
       "<style scoped>\n",
       "    .dataframe tbody tr th:only-of-type {\n",
       "        vertical-align: middle;\n",
       "    }\n",
       "\n",
       "    .dataframe tbody tr th {\n",
       "        vertical-align: top;\n",
       "    }\n",
       "\n",
       "    .dataframe thead th {\n",
       "        text-align: right;\n",
       "    }\n",
       "</style>\n",
       "<table border=\"1\" class=\"dataframe\">\n",
       "  <thead>\n",
       "    <tr style=\"text-align: right;\">\n",
       "      <th></th>\n",
       "      <th>Magnitud</th>\n",
       "      <th>Latitud</th>\n",
       "      <th>Longitud</th>\n",
       "      <th>Profundidad</th>\n",
       "      <th>anio</th>\n",
       "      <th>Magnitud &gt; 6</th>\n",
       "      <th>Class</th>\n",
       "      <th>Description</th>\n",
       "    </tr>\n",
       "  </thead>\n",
       "  <tbody>\n",
       "    <tr>\n",
       "      <th>0</th>\n",
       "      <td>7.4</td>\n",
       "      <td>20.00</td>\n",
       "      <td>-105.00</td>\n",
       "      <td>33.0</td>\n",
       "      <td>1900</td>\n",
       "      <td>True</td>\n",
       "      <td>bajo</td>\n",
       "      <td>Terremoto peligroso</td>\n",
       "    </tr>\n",
       "    <tr>\n",
       "      <th>1</th>\n",
       "      <td>6.9</td>\n",
       "      <td>20.00</td>\n",
       "      <td>-105.00</td>\n",
       "      <td>33.0</td>\n",
       "      <td>1900</td>\n",
       "      <td>True</td>\n",
       "      <td>bajo</td>\n",
       "      <td>Terremoto con probabilidad de peligro</td>\n",
       "    </tr>\n",
       "    <tr>\n",
       "      <th>2</th>\n",
       "      <td>6.9</td>\n",
       "      <td>25.00</td>\n",
       "      <td>-110.00</td>\n",
       "      <td>33.0</td>\n",
       "      <td>1901</td>\n",
       "      <td>True</td>\n",
       "      <td>bajo</td>\n",
       "      <td>Terremoto con probabilidad de peligro</td>\n",
       "    </tr>\n",
       "    <tr>\n",
       "      <th>3</th>\n",
       "      <td>7.0</td>\n",
       "      <td>26.00</td>\n",
       "      <td>-110.00</td>\n",
       "      <td>33.0</td>\n",
       "      <td>1901</td>\n",
       "      <td>True</td>\n",
       "      <td>bajo</td>\n",
       "      <td>Terremoto peligroso</td>\n",
       "    </tr>\n",
       "    <tr>\n",
       "      <th>4</th>\n",
       "      <td>7.0</td>\n",
       "      <td>17.62</td>\n",
       "      <td>-99.72</td>\n",
       "      <td>33.0</td>\n",
       "      <td>1902</td>\n",
       "      <td>True</td>\n",
       "      <td>bajo</td>\n",
       "      <td>Terremoto peligroso</td>\n",
       "    </tr>\n",
       "    <tr>\n",
       "      <th>...</th>\n",
       "      <td>...</td>\n",
       "      <td>...</td>\n",
       "      <td>...</td>\n",
       "      <td>...</td>\n",
       "      <td>...</td>\n",
       "      <td>...</td>\n",
       "      <td>...</td>\n",
       "      <td>...</td>\n",
       "    </tr>\n",
       "    <tr>\n",
       "      <th>222460</th>\n",
       "      <td>3.5</td>\n",
       "      <td>16.29</td>\n",
       "      <td>-98.19</td>\n",
       "      <td>21.0</td>\n",
       "      <td>2021</td>\n",
       "      <td>False</td>\n",
       "      <td>bajo</td>\n",
       "      <td>Terremoto sin peligro</td>\n",
       "    </tr>\n",
       "    <tr>\n",
       "      <th>222461</th>\n",
       "      <td>3.4</td>\n",
       "      <td>20.40</td>\n",
       "      <td>-105.16</td>\n",
       "      <td>5.0</td>\n",
       "      <td>2021</td>\n",
       "      <td>False</td>\n",
       "      <td>bajo</td>\n",
       "      <td>Terremoto sin peligro</td>\n",
       "    </tr>\n",
       "    <tr>\n",
       "      <th>222462</th>\n",
       "      <td>3.5</td>\n",
       "      <td>15.89</td>\n",
       "      <td>-98.44</td>\n",
       "      <td>8.0</td>\n",
       "      <td>2021</td>\n",
       "      <td>False</td>\n",
       "      <td>bajo</td>\n",
       "      <td>Terremoto sin peligro</td>\n",
       "    </tr>\n",
       "    <tr>\n",
       "      <th>222463</th>\n",
       "      <td>3.4</td>\n",
       "      <td>17.14</td>\n",
       "      <td>-99.07</td>\n",
       "      <td>51.0</td>\n",
       "      <td>2021</td>\n",
       "      <td>False</td>\n",
       "      <td>bajo</td>\n",
       "      <td>Terremoto sin peligro</td>\n",
       "    </tr>\n",
       "    <tr>\n",
       "      <th>222464</th>\n",
       "      <td>4.3</td>\n",
       "      <td>17.78</td>\n",
       "      <td>-93.72</td>\n",
       "      <td>3.0</td>\n",
       "      <td>2021</td>\n",
       "      <td>False</td>\n",
       "      <td>bajo</td>\n",
       "      <td>Terremoto sin peligro</td>\n",
       "    </tr>\n",
       "  </tbody>\n",
       "</table>\n",
       "<p>222465 rows × 8 columns</p>\n",
       "</div>"
      ],
      "text/plain": [
       "        Magnitud  Latitud  Longitud  Profundidad  anio  Magnitud > 6 Class  \\\n",
       "0            7.4    20.00   -105.00         33.0  1900          True  bajo   \n",
       "1            6.9    20.00   -105.00         33.0  1900          True  bajo   \n",
       "2            6.9    25.00   -110.00         33.0  1901          True  bajo   \n",
       "3            7.0    26.00   -110.00         33.0  1901          True  bajo   \n",
       "4            7.0    17.62    -99.72         33.0  1902          True  bajo   \n",
       "...          ...      ...       ...          ...   ...           ...   ...   \n",
       "222460       3.5    16.29    -98.19         21.0  2021         False  bajo   \n",
       "222461       3.4    20.40   -105.16          5.0  2021         False  bajo   \n",
       "222462       3.5    15.89    -98.44          8.0  2021         False  bajo   \n",
       "222463       3.4    17.14    -99.07         51.0  2021         False  bajo   \n",
       "222464       4.3    17.78    -93.72          3.0  2021         False  bajo   \n",
       "\n",
       "                                  Description  \n",
       "0                         Terremoto peligroso  \n",
       "1       Terremoto con probabilidad de peligro  \n",
       "2       Terremoto con probabilidad de peligro  \n",
       "3                         Terremoto peligroso  \n",
       "4                         Terremoto peligroso  \n",
       "...                                       ...  \n",
       "222460                  Terremoto sin peligro  \n",
       "222461                  Terremoto sin peligro  \n",
       "222462                  Terremoto sin peligro  \n",
       "222463                  Terremoto sin peligro  \n",
       "222464                  Terremoto sin peligro  \n",
       "\n",
       "[222465 rows x 8 columns]"
      ]
     },
     "execution_count": 29,
     "metadata": {},
     "output_type": "execute_result"
    }
   ],
   "source": [
    "data_terremotos"
   ]
  },
  {
   "cell_type": "markdown",
   "id": "6024026f",
   "metadata": {},
   "source": [
    "### Valores Atipicos"
   ]
  },
  {
   "cell_type": "code",
   "execution_count": 30,
   "id": "c6b43dea",
   "metadata": {},
   "outputs": [
    {
     "data": {
      "text/plain": [
       "<AxesSubplot:xlabel='Magnitud'>"
      ]
     },
     "execution_count": 30,
     "metadata": {},
     "output_type": "execute_result"
    },
    {
     "data": {
      "image/png": "[encoded data removed]",
      "text/plain": [
       "<Figure size 432x288 with 1 Axes>"
      ]
     },
     "metadata": {
      "needs_background": "light"
     },
     "output_type": "display_data"
    }
   ],
   "source": [
    "sns.boxplot(x=data_terremotos['Magnitud']) #columna de interes"
   ]
  },
  {
   "cell_type": "markdown",
   "id": "2aab80a1",
   "metadata": {},
   "source": [
    "Descartar los valores atipicos es una parte muy importante, los valores atipicos son valores que pueden afectar a nuestro modelo de machine learning, para saber si tenemos valores atipicos podemos graficar un boxplot como el anterior.\n",
    "Los puntos que estan fuera de las lineas o mas conocidos como bigotes, son nuestros valores atipicos\n",
    "Todo esto sobre nuestra columna dfe interes que en el caso para el desarrollo de modelos para terremotos sería o mas bien se recomienda que sea el de Magnitud."
   ]
  },
  {
   "cell_type": "code",
   "execution_count": 31,
   "id": "e28e495b",
   "metadata": {},
   "outputs": [
    {
     "name": "stdout",
     "output_type": "stream",
     "text": [
      "Primer cuartil 3.4\n",
      "Tercer cuartil 3.9\n",
      "Rango Intercuartil 0.5\n",
      "Mediana 3.7\n",
      "Valor minimo 0.6\n",
      "Valor maximo 8.2\n"
     ]
    }
   ],
   "source": [
    "Q1= data_terremotos[\"Magnitud\"].quantile(0.25)\n",
    "print(\"Primer cuartil\", Q1)\n",
    "\n",
    "Q3= data_terremotos[\"Magnitud\"].quantile(0.75)\n",
    "print(\"Tercer cuartil\", Q3)\n",
    "\n",
    "IQR = Q3 -Q1\n",
    "print(\"Rango Intercuartil\", IQR)\n",
    "\n",
    "Mediana = data_terremotos[\"Magnitud\"].median()\n",
    "print(\"Mediana\", Mediana)\n",
    "\n",
    "Valor_minimo = data_terremotos[\"Magnitud\"].min()\n",
    "print(\"Valor minimo\", Valor_minimo)\n",
    "\n",
    "Valor_maximo = data_terremotos[\"Magnitud\"].max()\n",
    "print(\"Valor maximo\", Valor_maximo)"
   ]
  },
  {
   "cell_type": "markdown",
   "id": "bca4f35a",
   "metadata": {},
   "source": [
    "Para descartar estos valores primero debemos saber los valores del primer y tercer cuartil"
   ]
  },
  {
   "cell_type": "code",
   "execution_count": 32,
   "id": "995ae56d",
   "metadata": {},
   "outputs": [
    {
     "name": "stdout",
     "output_type": "stream",
     "text": [
      "Bigote inferior \n",
      " 2.65\n",
      "Bigote superior \n",
      " 4.65\n"
     ]
    }
   ],
   "source": [
    "B_inferior_cal = (Q1 - 1.5 * IQR)\n",
    "print(\"Bigote inferior \\n\", B_inferior_cal)\n",
    "\n",
    "B_superior_cal = (Q3 + 1.5 * IQR)\n",
    "print(\"Bigote superior \\n\", B_superior_cal)"
   ]
  },
  {
   "cell_type": "code",
   "execution_count": 33,
   "id": "10869d89",
   "metadata": {},
   "outputs": [
    {
     "name": "stdout",
     "output_type": "stream",
     "text": [
      "\n",
      " Ubicación de outliers \n",
      " 0          True\n",
      "1          True\n",
      "2          True\n",
      "3          True\n",
      "4          True\n",
      "          ...  \n",
      "222460    False\n",
      "222461    False\n",
      "222462    False\n",
      "222463    False\n",
      "222464    False\n",
      "Name: Magnitud, Length: 222465, dtype: bool\n"
     ]
    }
   ],
   "source": [
    "ubicacion_outliers = (data_terremotos['Magnitud'] < B_inferior_cal) | (data_terremotos['Magnitud'] > B_superior_cal)\n",
    "print(\"\\n Ubicación de outliers \\n\", ubicacion_outliers)"
   ]
  },
  {
   "cell_type": "markdown",
   "id": "a54aa6d7",
   "metadata": {},
   "source": [
    "Una vez sabiendo los valores de los cuartiles procedemos a calcular los bigotes inferior y superior esto para uicar los valores atipicos."
   ]
  },
  {
   "cell_type": "code",
   "execution_count": 34,
   "id": "05edbc71",
   "metadata": {},
   "outputs": [
    {
     "name": "stdout",
     "output_type": "stream",
     "text": [
      "\n",
      " Lista de Outliers         Magnitud  Latitud  Longitud  Profundidad  anio  Magnitud > 6 Class  \\\n",
      "0            7.4    20.00   -105.00         33.0  1900          True  bajo   \n",
      "1            6.9    20.00   -105.00         33.0  1900          True  bajo   \n",
      "2            6.9    25.00   -110.00         33.0  1901          True  bajo   \n",
      "3            7.0    26.00   -110.00         33.0  1901          True  bajo   \n",
      "4            7.0    17.62    -99.72         33.0  1902          True  bajo   \n",
      "...          ...      ...       ...          ...   ...           ...   ...   \n",
      "221598       1.2    22.81   -102.59          2.0  2021         False  bajo   \n",
      "221646       4.8    15.07    -94.32         21.0  2021         False  bajo   \n",
      "222007       4.8    18.65   -106.53         10.0  2021         False  bajo   \n",
      "222083       4.7    25.75   -110.34          5.0  2021         False  bajo   \n",
      "222091       2.4    15.12    -92.12          6.0  2021         False  bajo   \n",
      "\n",
      "                                  Description  \n",
      "0                         Terremoto peligroso  \n",
      "1       Terremoto con probabilidad de peligro  \n",
      "2       Terremoto con probabilidad de peligro  \n",
      "3                         Terremoto peligroso  \n",
      "4                         Terremoto peligroso  \n",
      "...                                       ...  \n",
      "221598                  Terremoto sin peligro  \n",
      "221646                  Terremoto sin peligro  \n",
      "222007                  Terremoto sin peligro  \n",
      "222083                  Terremoto sin peligro  \n",
      "222091                  Terremoto sin peligro  \n",
      "\n",
      "[5965 rows x 8 columns]\n"
     ]
    }
   ],
   "source": [
    "outliers = data_terremotos[ubicacion_outliers]\n",
    "print(\"\\n Lista de Outliers\", outliers)"
   ]
  },
  {
   "cell_type": "markdown",
   "id": "991c0426",
   "metadata": {},
   "source": [
    "Una vez ubicados podemos mostrar nuestra lista de outliers, ver de que tipo de datos se trata"
   ]
  },
  {
   "cell_type": "code",
   "execution_count": 35,
   "id": "0f52a60e",
   "metadata": {},
   "outputs": [
    {
     "data": {
      "text/html": [
       "<div>\n",
       "<style scoped>\n",
       "    .dataframe tbody tr th:only-of-type {\n",
       "        vertical-align: middle;\n",
       "    }\n",
       "\n",
       "    .dataframe tbody tr th {\n",
       "        vertical-align: top;\n",
       "    }\n",
       "\n",
       "    .dataframe thead th {\n",
       "        text-align: right;\n",
       "    }\n",
       "</style>\n",
       "<table border=\"1\" class=\"dataframe\">\n",
       "  <thead>\n",
       "    <tr style=\"text-align: right;\">\n",
       "      <th></th>\n",
       "      <th>Magnitud</th>\n",
       "      <th>Latitud</th>\n",
       "      <th>Longitud</th>\n",
       "      <th>Profundidad</th>\n",
       "      <th>anio</th>\n",
       "      <th>Magnitud &gt; 6</th>\n",
       "      <th>Class</th>\n",
       "      <th>Description</th>\n",
       "    </tr>\n",
       "  </thead>\n",
       "  <tbody>\n",
       "    <tr>\n",
       "      <th>136</th>\n",
       "      <td>4.3</td>\n",
       "      <td>19.54</td>\n",
       "      <td>-108.04</td>\n",
       "      <td>33.0</td>\n",
       "      <td>1974</td>\n",
       "      <td>False</td>\n",
       "      <td>bajo</td>\n",
       "      <td>Terremoto sin peligro</td>\n",
       "    </tr>\n",
       "    <tr>\n",
       "      <th>138</th>\n",
       "      <td>4.3</td>\n",
       "      <td>13.96</td>\n",
       "      <td>-92.51</td>\n",
       "      <td>33.0</td>\n",
       "      <td>1974</td>\n",
       "      <td>False</td>\n",
       "      <td>bajo</td>\n",
       "      <td>Terremoto sin peligro</td>\n",
       "    </tr>\n",
       "    <tr>\n",
       "      <th>139</th>\n",
       "      <td>3.5</td>\n",
       "      <td>32.33</td>\n",
       "      <td>-116.32</td>\n",
       "      <td>8.0</td>\n",
       "      <td>1974</td>\n",
       "      <td>False</td>\n",
       "      <td>bajo</td>\n",
       "      <td>Terremoto sin peligro</td>\n",
       "    </tr>\n",
       "    <tr>\n",
       "      <th>141</th>\n",
       "      <td>4.4</td>\n",
       "      <td>13.65</td>\n",
       "      <td>-90.96</td>\n",
       "      <td>64.0</td>\n",
       "      <td>1974</td>\n",
       "      <td>False</td>\n",
       "      <td>bajo</td>\n",
       "      <td>Terremoto sin peligro</td>\n",
       "    </tr>\n",
       "    <tr>\n",
       "      <th>143</th>\n",
       "      <td>4.6</td>\n",
       "      <td>13.21</td>\n",
       "      <td>-88.26</td>\n",
       "      <td>103.0</td>\n",
       "      <td>1974</td>\n",
       "      <td>False</td>\n",
       "      <td>medio</td>\n",
       "      <td>Terremoto sin peligro</td>\n",
       "    </tr>\n",
       "    <tr>\n",
       "      <th>...</th>\n",
       "      <td>...</td>\n",
       "      <td>...</td>\n",
       "      <td>...</td>\n",
       "      <td>...</td>\n",
       "      <td>...</td>\n",
       "      <td>...</td>\n",
       "      <td>...</td>\n",
       "      <td>...</td>\n",
       "    </tr>\n",
       "    <tr>\n",
       "      <th>222460</th>\n",
       "      <td>3.5</td>\n",
       "      <td>16.29</td>\n",
       "      <td>-98.19</td>\n",
       "      <td>21.0</td>\n",
       "      <td>2021</td>\n",
       "      <td>False</td>\n",
       "      <td>bajo</td>\n",
       "      <td>Terremoto sin peligro</td>\n",
       "    </tr>\n",
       "    <tr>\n",
       "      <th>222461</th>\n",
       "      <td>3.4</td>\n",
       "      <td>20.40</td>\n",
       "      <td>-105.16</td>\n",
       "      <td>5.0</td>\n",
       "      <td>2021</td>\n",
       "      <td>False</td>\n",
       "      <td>bajo</td>\n",
       "      <td>Terremoto sin peligro</td>\n",
       "    </tr>\n",
       "    <tr>\n",
       "      <th>222462</th>\n",
       "      <td>3.5</td>\n",
       "      <td>15.89</td>\n",
       "      <td>-98.44</td>\n",
       "      <td>8.0</td>\n",
       "      <td>2021</td>\n",
       "      <td>False</td>\n",
       "      <td>bajo</td>\n",
       "      <td>Terremoto sin peligro</td>\n",
       "    </tr>\n",
       "    <tr>\n",
       "      <th>222463</th>\n",
       "      <td>3.4</td>\n",
       "      <td>17.14</td>\n",
       "      <td>-99.07</td>\n",
       "      <td>51.0</td>\n",
       "      <td>2021</td>\n",
       "      <td>False</td>\n",
       "      <td>bajo</td>\n",
       "      <td>Terremoto sin peligro</td>\n",
       "    </tr>\n",
       "    <tr>\n",
       "      <th>222464</th>\n",
       "      <td>4.3</td>\n",
       "      <td>17.78</td>\n",
       "      <td>-93.72</td>\n",
       "      <td>3.0</td>\n",
       "      <td>2021</td>\n",
       "      <td>False</td>\n",
       "      <td>bajo</td>\n",
       "      <td>Terremoto sin peligro</td>\n",
       "    </tr>\n",
       "  </tbody>\n",
       "</table>\n",
       "<p>198851 rows × 8 columns</p>\n",
       "</div>"
      ],
      "text/plain": [
       "        Magnitud  Latitud  Longitud  Profundidad  anio  Magnitud > 6  Class  \\\n",
       "136          4.3    19.54   -108.04         33.0  1974         False   bajo   \n",
       "138          4.3    13.96    -92.51         33.0  1974         False   bajo   \n",
       "139          3.5    32.33   -116.32          8.0  1974         False   bajo   \n",
       "141          4.4    13.65    -90.96         64.0  1974         False   bajo   \n",
       "143          4.6    13.21    -88.26        103.0  1974         False  medio   \n",
       "...          ...      ...       ...          ...   ...           ...    ...   \n",
       "222460       3.5    16.29    -98.19         21.0  2021         False   bajo   \n",
       "222461       3.4    20.40   -105.16          5.0  2021         False   bajo   \n",
       "222462       3.5    15.89    -98.44          8.0  2021         False   bajo   \n",
       "222463       3.4    17.14    -99.07         51.0  2021         False   bajo   \n",
       "222464       4.3    17.78    -93.72          3.0  2021         False   bajo   \n",
       "\n",
       "                  Description  \n",
       "136     Terremoto sin peligro  \n",
       "138     Terremoto sin peligro  \n",
       "139     Terremoto sin peligro  \n",
       "141     Terremoto sin peligro  \n",
       "143     Terremoto sin peligro  \n",
       "...                       ...  \n",
       "222460  Terremoto sin peligro  \n",
       "222461  Terremoto sin peligro  \n",
       "222462  Terremoto sin peligro  \n",
       "222463  Terremoto sin peligro  \n",
       "222464  Terremoto sin peligro  \n",
       "\n",
       "[198851 rows x 8 columns]"
      ]
     },
     "execution_count": 35,
     "metadata": {},
     "output_type": "execute_result"
    }
   ],
   "source": [
    "ubicacion_sin_outliers = (data_terremotos['Magnitud'] >= B_inferior_cal) & (data_terremotos['Magnitud'] <= B_superior_cal)\n",
    "data_terremotos = data_terremotos[ubicacion_sin_outliers]\n",
    "data_terremotos"
   ]
  },
  {
   "cell_type": "code",
   "execution_count": 36,
   "id": "f3512cb1",
   "metadata": {},
   "outputs": [
    {
     "data": {
      "text/plain": [
       "<AxesSubplot:xlabel='Magnitud'>"
      ]
     },
     "execution_count": 36,
     "metadata": {},
     "output_type": "execute_result"
    },
    {
     "data": {
      "image/png": "[encoded data removed]",
      "text/plain": [
       "<Figure size 432x288 with 1 Axes>"
      ]
     },
     "metadata": {
      "needs_background": "light"
     },
     "output_type": "display_data"
    }
   ],
   "source": [
    "sns.boxplot(x=data_terremotos['Magnitud']) #columna de interes"
   ]
  },
  {
   "cell_type": "markdown",
   "id": "2e394218",
   "metadata": {},
   "source": [
    "Es muy importante sacar este tipo de valores así que hacemos un filtro para que ya no tengamos estos datos, ¿Como sabemos que ha funcionado?\n",
    "Podemos volver a graficar un boxplot y como podemos notar en la grafica el numero de valores atipicos se ha reducido notablmente"
   ]
  },
  {
   "cell_type": "code",
   "execution_count": 37,
   "id": "0fdd1f25",
   "metadata": {},
   "outputs": [
    {
     "data": {
      "image/png": "[encoded data removed]",
      "text/plain": [
       "<Figure size 432x288 with 1 Axes>"
      ]
     },
     "metadata": {
      "needs_background": "light"
     },
     "output_type": "display_data"
    }
   ],
   "source": [
    "plt.scatter(data_terremotos.Profundidad, data_terremotos.Magnitud, color=\"red\")\n",
    "plt.xlabel=\"Depth\"\n",
    "plt.ylabel=\"Magnitude\"\n",
    "plt.show()"
   ]
  },
  {
   "cell_type": "markdown",
   "id": "a1f9b9e1",
   "metadata": {},
   "source": [
    "Incluso podemos ver que algunas graficas anteriores han cambiado ya que no hay valores atipicos.\n",
    "### Ingeniería de características"
   ]
  },
  {
   "cell_type": "code",
   "execution_count": 38,
   "id": "da674a32",
   "metadata": {},
   "outputs": [
    {
     "data": {
      "text/html": [
       "<div>\n",
       "<style scoped>\n",
       "    .dataframe tbody tr th:only-of-type {\n",
       "        vertical-align: middle;\n",
       "    }\n",
       "\n",
       "    .dataframe tbody tr th {\n",
       "        vertical-align: top;\n",
       "    }\n",
       "\n",
       "    .dataframe thead th {\n",
       "        text-align: right;\n",
       "    }\n",
       "</style>\n",
       "<table border=\"1\" class=\"dataframe\">\n",
       "  <thead>\n",
       "    <tr style=\"text-align: right;\">\n",
       "      <th></th>\n",
       "      <th>Magnitud</th>\n",
       "      <th>Latitud</th>\n",
       "      <th>Longitud</th>\n",
       "      <th>Profundidad</th>\n",
       "      <th>anio</th>\n",
       "      <th>Magnitud &gt; 6</th>\n",
       "      <th>Class</th>\n",
       "      <th>Description</th>\n",
       "      <th>intensidad</th>\n",
       "    </tr>\n",
       "  </thead>\n",
       "  <tbody>\n",
       "    <tr>\n",
       "      <th>136</th>\n",
       "      <td>4.3</td>\n",
       "      <td>19.54</td>\n",
       "      <td>-108.04</td>\n",
       "      <td>33.0</td>\n",
       "      <td>1974</td>\n",
       "      <td>False</td>\n",
       "      <td>bajo</td>\n",
       "      <td>Terremoto sin peligro</td>\n",
       "      <td>0</td>\n",
       "    </tr>\n",
       "    <tr>\n",
       "      <th>138</th>\n",
       "      <td>4.3</td>\n",
       "      <td>13.96</td>\n",
       "      <td>-92.51</td>\n",
       "      <td>33.0</td>\n",
       "      <td>1974</td>\n",
       "      <td>False</td>\n",
       "      <td>bajo</td>\n",
       "      <td>Terremoto sin peligro</td>\n",
       "      <td>0</td>\n",
       "    </tr>\n",
       "    <tr>\n",
       "      <th>139</th>\n",
       "      <td>3.5</td>\n",
       "      <td>32.33</td>\n",
       "      <td>-116.32</td>\n",
       "      <td>8.0</td>\n",
       "      <td>1974</td>\n",
       "      <td>False</td>\n",
       "      <td>bajo</td>\n",
       "      <td>Terremoto sin peligro</td>\n",
       "      <td>0</td>\n",
       "    </tr>\n",
       "    <tr>\n",
       "      <th>141</th>\n",
       "      <td>4.4</td>\n",
       "      <td>13.65</td>\n",
       "      <td>-90.96</td>\n",
       "      <td>64.0</td>\n",
       "      <td>1974</td>\n",
       "      <td>False</td>\n",
       "      <td>bajo</td>\n",
       "      <td>Terremoto sin peligro</td>\n",
       "      <td>0</td>\n",
       "    </tr>\n",
       "    <tr>\n",
       "      <th>143</th>\n",
       "      <td>4.6</td>\n",
       "      <td>13.21</td>\n",
       "      <td>-88.26</td>\n",
       "      <td>103.0</td>\n",
       "      <td>1974</td>\n",
       "      <td>False</td>\n",
       "      <td>medio</td>\n",
       "      <td>Terremoto sin peligro</td>\n",
       "      <td>0</td>\n",
       "    </tr>\n",
       "  </tbody>\n",
       "</table>\n",
       "</div>"
      ],
      "text/plain": [
       "     Magnitud  Latitud  Longitud  Profundidad  anio  Magnitud > 6  Class  \\\n",
       "136       4.3    19.54   -108.04         33.0  1974         False   bajo   \n",
       "138       4.3    13.96    -92.51         33.0  1974         False   bajo   \n",
       "139       3.5    32.33   -116.32          8.0  1974         False   bajo   \n",
       "141       4.4    13.65    -90.96         64.0  1974         False   bajo   \n",
       "143       4.6    13.21    -88.26        103.0  1974         False  medio   \n",
       "\n",
       "               Description  intensidad  \n",
       "136  Terremoto sin peligro           0  \n",
       "138  Terremoto sin peligro           0  \n",
       "139  Terremoto sin peligro           0  \n",
       "141  Terremoto sin peligro           0  \n",
       "143  Terremoto sin peligro           0  "
      ]
     },
     "execution_count": 38,
     "metadata": {},
     "output_type": "execute_result"
    }
   ],
   "source": [
    "from sklearn import preprocessing\n",
    "routulador = preprocessing.LabelEncoder()\n",
    "data_terremotos['intensidad'] = routulador.fit_transform(data_terremotos['Magnitud > 6'])\n",
    "\n",
    "\n",
    "data_terremotos.head(5)"
   ]
  },
  {
   "cell_type": "code",
   "execution_count": 39,
   "id": "8d759bb9",
   "metadata": {},
   "outputs": [
    {
     "data": {
      "text/html": [
       "<div>\n",
       "<style scoped>\n",
       "    .dataframe tbody tr th:only-of-type {\n",
       "        vertical-align: middle;\n",
       "    }\n",
       "\n",
       "    .dataframe tbody tr th {\n",
       "        vertical-align: top;\n",
       "    }\n",
       "\n",
       "    .dataframe thead th {\n",
       "        text-align: right;\n",
       "    }\n",
       "</style>\n",
       "<table border=\"1\" class=\"dataframe\">\n",
       "  <thead>\n",
       "    <tr style=\"text-align: right;\">\n",
       "      <th></th>\n",
       "      <th>Magnitud</th>\n",
       "      <th>Latitud</th>\n",
       "      <th>Longitud</th>\n",
       "      <th>Profundidad</th>\n",
       "      <th>anio</th>\n",
       "      <th>Magnitud &gt; 6</th>\n",
       "      <th>Class</th>\n",
       "      <th>Description</th>\n",
       "      <th>intensidad</th>\n",
       "      <th>anio_encode</th>\n",
       "      <th>Latitude_Encode</th>\n",
       "      <th>Longitude_Encoded</th>\n",
       "      <th>Depth_Encoded</th>\n",
       "      <th>Magnitude_Encoded</th>\n",
       "    </tr>\n",
       "  </thead>\n",
       "  <tbody>\n",
       "    <tr>\n",
       "      <th>136</th>\n",
       "      <td>4.3</td>\n",
       "      <td>19.54</td>\n",
       "      <td>-108.04</td>\n",
       "      <td>33.0</td>\n",
       "      <td>1974</td>\n",
       "      <td>False</td>\n",
       "      <td>bajo</td>\n",
       "      <td>Terremoto sin peligro</td>\n",
       "      <td>0</td>\n",
       "      <td>0</td>\n",
       "      <td>30734</td>\n",
       "      <td>4390</td>\n",
       "      <td>320</td>\n",
       "      <td>16</td>\n",
       "    </tr>\n",
       "    <tr>\n",
       "      <th>138</th>\n",
       "      <td>4.3</td>\n",
       "      <td>13.96</td>\n",
       "      <td>-92.51</td>\n",
       "      <td>33.0</td>\n",
       "      <td>1974</td>\n",
       "      <td>False</td>\n",
       "      <td>bajo</td>\n",
       "      <td>Terremoto sin peligro</td>\n",
       "      <td>0</td>\n",
       "      <td>0</td>\n",
       "      <td>1205</td>\n",
       "      <td>46921</td>\n",
       "      <td>320</td>\n",
       "      <td>16</td>\n",
       "    </tr>\n",
       "    <tr>\n",
       "      <th>139</th>\n",
       "      <td>3.5</td>\n",
       "      <td>32.33</td>\n",
       "      <td>-116.32</td>\n",
       "      <td>8.0</td>\n",
       "      <td>1974</td>\n",
       "      <td>False</td>\n",
       "      <td>bajo</td>\n",
       "      <td>Terremoto sin peligro</td>\n",
       "      <td>0</td>\n",
       "      <td>0</td>\n",
       "      <td>40001</td>\n",
       "      <td>256</td>\n",
       "      <td>70</td>\n",
       "      <td>8</td>\n",
       "    </tr>\n",
       "    <tr>\n",
       "      <th>141</th>\n",
       "      <td>4.4</td>\n",
       "      <td>13.65</td>\n",
       "      <td>-90.96</td>\n",
       "      <td>64.0</td>\n",
       "      <td>1974</td>\n",
       "      <td>False</td>\n",
       "      <td>bajo</td>\n",
       "      <td>Terremoto sin peligro</td>\n",
       "      <td>0</td>\n",
       "      <td>0</td>\n",
       "      <td>407</td>\n",
       "      <td>49752</td>\n",
       "      <td>630</td>\n",
       "      <td>17</td>\n",
       "    </tr>\n",
       "    <tr>\n",
       "      <th>143</th>\n",
       "      <td>4.6</td>\n",
       "      <td>13.21</td>\n",
       "      <td>-88.26</td>\n",
       "      <td>103.0</td>\n",
       "      <td>1974</td>\n",
       "      <td>False</td>\n",
       "      <td>medio</td>\n",
       "      <td>Terremoto sin peligro</td>\n",
       "      <td>0</td>\n",
       "      <td>0</td>\n",
       "      <td>56</td>\n",
       "      <td>49965</td>\n",
       "      <td>1020</td>\n",
       "      <td>19</td>\n",
       "    </tr>\n",
       "  </tbody>\n",
       "</table>\n",
       "</div>"
      ],
      "text/plain": [
       "     Magnitud  Latitud  Longitud  Profundidad  anio  Magnitud > 6  Class  \\\n",
       "136       4.3    19.54   -108.04         33.0  1974         False   bajo   \n",
       "138       4.3    13.96    -92.51         33.0  1974         False   bajo   \n",
       "139       3.5    32.33   -116.32          8.0  1974         False   bajo   \n",
       "141       4.4    13.65    -90.96         64.0  1974         False   bajo   \n",
       "143       4.6    13.21    -88.26        103.0  1974         False  medio   \n",
       "\n",
       "               Description  intensidad  anio_encode  Latitude_Encode  \\\n",
       "136  Terremoto sin peligro           0            0            30734   \n",
       "138  Terremoto sin peligro           0            0             1205   \n",
       "139  Terremoto sin peligro           0            0            40001   \n",
       "141  Terremoto sin peligro           0            0              407   \n",
       "143  Terremoto sin peligro           0            0               56   \n",
       "\n",
       "     Longitude_Encoded  Depth_Encoded  Magnitude_Encoded  \n",
       "136               4390            320                 16  \n",
       "138              46921            320                 16  \n",
       "139                256             70                  8  \n",
       "141              49752            630                 17  \n",
       "143              49965           1020                 19  "
      ]
     },
     "execution_count": 39,
     "metadata": {},
     "output_type": "execute_result"
    }
   ],
   "source": [
    "data_terremotos['anio_encode'] = routulador.fit_transform(data_terremotos['anio'])\n",
    "data_terremotos['Latitude_Encode'] = routulador.fit_transform(data_terremotos['Latitud'])\n",
    "data_terremotos['Longitude_Encoded'] = routulador.fit_transform(data_terremotos['Longitud'])\n",
    "data_terremotos['Depth_Encoded'] = routulador.fit_transform(data_terremotos['Profundidad'])\n",
    "data_terremotos['Magnitude_Encoded'] = routulador.fit_transform(data_terremotos['Magnitud'])\n",
    "\n",
    "data_terremotos.head(5)"
   ]
  },
  {
   "cell_type": "code",
   "execution_count": 40,
   "id": "6ee730ea",
   "metadata": {},
   "outputs": [],
   "source": [
    "data_terremotos = data_terremotos.drop(columns ='Magnitud')\n",
    "data_terremotos = data_terremotos.drop(columns ='Latitud')\n",
    "data_terremotos = data_terremotos.drop(columns ='Longitud')\n",
    "data_terremotos = data_terremotos.drop(columns ='Profundidad')\n",
    "data_terremotos = data_terremotos.drop(columns ='Magnitud > 6')\n",
    "data_terremotos = data_terremotos.drop(columns ='Class')\n",
    "data_terremotos = data_terremotos.drop(columns ='intensidad')\n",
    "data_terremotos = data_terremotos.drop(columns ='Latitude_Encode')\n",
    "data_terremotos = data_terremotos.drop(columns ='Longitude_Encoded')\n",
    "data_terremotos = data_terremotos.drop(columns ='anio')"
   ]
  },
  {
   "cell_type": "code",
   "execution_count": 41,
   "id": "b0f24537",
   "metadata": {},
   "outputs": [
    {
     "data": {
      "text/html": [
       "<div>\n",
       "<style scoped>\n",
       "    .dataframe tbody tr th:only-of-type {\n",
       "        vertical-align: middle;\n",
       "    }\n",
       "\n",
       "    .dataframe tbody tr th {\n",
       "        vertical-align: top;\n",
       "    }\n",
       "\n",
       "    .dataframe thead th {\n",
       "        text-align: right;\n",
       "    }\n",
       "</style>\n",
       "<table border=\"1\" class=\"dataframe\">\n",
       "  <thead>\n",
       "    <tr style=\"text-align: right;\">\n",
       "      <th></th>\n",
       "      <th>Description</th>\n",
       "      <th>anio_encode</th>\n",
       "      <th>Depth_Encoded</th>\n",
       "      <th>Magnitude_Encoded</th>\n",
       "    </tr>\n",
       "  </thead>\n",
       "  <tbody>\n",
       "    <tr>\n",
       "      <th>136</th>\n",
       "      <td>Terremoto sin peligro</td>\n",
       "      <td>0</td>\n",
       "      <td>320</td>\n",
       "      <td>16</td>\n",
       "    </tr>\n",
       "    <tr>\n",
       "      <th>138</th>\n",
       "      <td>Terremoto sin peligro</td>\n",
       "      <td>0</td>\n",
       "      <td>320</td>\n",
       "      <td>16</td>\n",
       "    </tr>\n",
       "    <tr>\n",
       "      <th>139</th>\n",
       "      <td>Terremoto sin peligro</td>\n",
       "      <td>0</td>\n",
       "      <td>70</td>\n",
       "      <td>8</td>\n",
       "    </tr>\n",
       "    <tr>\n",
       "      <th>141</th>\n",
       "      <td>Terremoto sin peligro</td>\n",
       "      <td>0</td>\n",
       "      <td>630</td>\n",
       "      <td>17</td>\n",
       "    </tr>\n",
       "    <tr>\n",
       "      <th>143</th>\n",
       "      <td>Terremoto sin peligro</td>\n",
       "      <td>0</td>\n",
       "      <td>1020</td>\n",
       "      <td>19</td>\n",
       "    </tr>\n",
       "  </tbody>\n",
       "</table>\n",
       "</div>"
      ],
      "text/plain": [
       "               Description  anio_encode  Depth_Encoded  Magnitude_Encoded\n",
       "136  Terremoto sin peligro            0            320                 16\n",
       "138  Terremoto sin peligro            0            320                 16\n",
       "139  Terremoto sin peligro            0             70                  8\n",
       "141  Terremoto sin peligro            0            630                 17\n",
       "143  Terremoto sin peligro            0           1020                 19"
      ]
     },
     "execution_count": 41,
     "metadata": {},
     "output_type": "execute_result"
    }
   ],
   "source": [
    "data_terremotos.head(5)"
   ]
  },
  {
   "cell_type": "markdown",
   "id": "a7d657e3",
   "metadata": {},
   "source": [
    "Notamos que los valores de los datos han cambiado\n",
    "## Modelado"
   ]
  },
  {
   "cell_type": "code",
   "execution_count": 42,
   "id": "ec274422",
   "metadata": {},
   "outputs": [
    {
     "name": "stdout",
     "output_type": "stream",
     "text": [
      "Tamaño del Dataframe (198851, 4)\n",
      "Tamaño de los datos de entrenamiento                   Description  anio_encode  Depth_Encoded  Magnitude_Encoded\n",
      "136     Terremoto sin peligro            0            320                 16\n",
      "138     Terremoto sin peligro            0            320                 16\n",
      "139     Terremoto sin peligro            0             70                  8\n",
      "141     Terremoto sin peligro            0            630                 17\n",
      "143     Terremoto sin peligro            0           1020                 19\n",
      "...                       ...          ...            ...                ...\n",
      "222460  Terremoto sin peligro           47            200                  8\n",
      "222461  Terremoto sin peligro           47             40                  7\n",
      "222462  Terremoto sin peligro           47             70                  8\n",
      "222463  Terremoto sin peligro           47            500                  7\n",
      "222464  Terremoto sin peligro           47             20                 16\n",
      "\n",
      "[198851 rows x 4 columns] (79540, 3) (79540, 1)\n",
      "Tamaño de los datos de test (119311, 3) (119311, 1)\n"
     ]
    }
   ],
   "source": [
    "array = data_terremotos.values\n",
    "x = array[:, 1:4] #toma una parte \n",
    "y = array[:, 0:1]\n",
    "X_train, X_test, Y_train, Y_test = train_test_split(x, y, test_size=0.60, random_state=1)\n",
    "\n",
    "print(\"Tamaño del Dataframe\", data_terremotos.shape)\n",
    "print(\"Tamaño de los datos de entrenamiento\", data_terremotos, X_train.shape, Y_train.shape)\n",
    "print(\"Tamaño de los datos de test\", X_test.shape, Y_test.shape)"
   ]
  },
  {
   "cell_type": "markdown",
   "id": "f2e6654c",
   "metadata": {},
   "source": [
    "## Arbol de Desicion"
   ]
  },
  {
   "cell_type": "code",
   "execution_count": 43,
   "id": "4e13d82b",
   "metadata": {},
   "outputs": [
    {
     "name": "stdout",
     "output_type": "stream",
     "text": [
      "1.0\n",
      "[1. 1. 1. 1. 1. 1. 1. 1. 1. 1.]\n",
      "cv_scores mean:1.0\n",
      "                       precision    recall  f1-score   support\n",
      "\n",
      "Terremoto sin peligro       1.00      1.00      1.00    119311\n",
      "\n",
      "             accuracy                           1.00    119311\n",
      "            macro avg       1.00      1.00      1.00    119311\n",
      "         weighted avg       1.00      1.00      1.00    119311\n",
      "\n"
     ]
    }
   ],
   "source": [
    "from sklearn import tree\n",
    "from sklearn import metrics\n",
    "from sklearn.model_selection import cross_val_score\n",
    "\n",
    "#cellTree = DecisionTreeClassifier(criterion=\"entropy\", max_depth=4)\n",
    "\n",
    "arbolDe = tree.DecisionTreeClassifier(criterion=\"entropy\", max_depth=4)\n",
    "\n",
    "#print(cellTree)\n",
    "\n",
    "arbol = arbolDe.fit(X_train, Y_train)\n",
    "predictions = arbolDe.predict(X_test)\n",
    "\n",
    "accuracy = arbolDe.score(X_test, predictions)\n",
    "\n",
    "print(accuracy)\n",
    "#validacion cruzada\n",
    "cell_tree_data = tree.DecisionTreeClassifier(criterion=\"entropy\", max_depth=4)\n",
    "\n",
    "cv_scores_data = cross_val_score(cell_tree_data, x, y, cv=10)\n",
    "\n",
    "#precision del modelo\n",
    "print(cv_scores_data)\n",
    "##hacemos el promedio\n",
    "print('cv_scores mean:{}'.format(np.mean(cv_scores_data)))\n",
    "\n",
    "#metricas del rendimiento\n",
    "from sklearn.metrics import classification_report\n",
    "predict_data = classification_report(predictions, Y_test)\n",
    "print(predict_data)"
   ]
  },
  {
   "cell_type": "code",
   "execution_count": 44,
   "id": "83ab0745",
   "metadata": {},
   "outputs": [
    {
     "name": "stdout",
     "output_type": "stream",
     "text": [
      "['Terremoto sin peligro']\n"
     ]
    }
   ],
   "source": [
    "# Crear un nuevo dataframe con los datos de entrada\n",
    "\n",
    "\"\"\"\n",
    "Supongamos que insertamos lo siguientes datos:\n",
    "Magnitud: 7.2\n",
    "Profundidad: 10\n",
    "Año: 2023\n",
    "\n",
    "Haciendo ingenieria de caracteristicas los resultados serian:\n",
    "Magnitud_Encoded: 3\n",
    "Depth_Encoded: 1\n",
    "anio_encode: 0\n",
    "\n",
    "Estos son los valores que debemos insertar\n",
    "depth\n",
    "320\t\n",
    "magnitude\n",
    "16\n",
    "anio\n",
    "0\n",
    "\"\"\"\n",
    "\"\"\"\n",
    "Es necesario mencionar que debido a la magnitud del dataframe este tiene algunos problemas para identiicar correctmente la clase\n",
    "\"\"\"\n",
    "new_data = pd.DataFrame({ \n",
    "                         'anio_encode': [2023], \n",
    "                         'Depth_Encoded': [100], \n",
    "                         'Magnitude_Encoded': [3.2]})\n",
    "#ingenieria de caracteristicas para que lo interprete el modelo\n",
    "#new_data['anio_encode'] = routulador.fit_transform(new_data['anio_encode'])\n",
    "#new_data['Depth_Encoded'] = routulador.fit_transform(new_data['Depth_Encoded'])\n",
    "#new_data['Magnitude_Encoded'] = routulador.fit_transform(new_data['Magnitude_Encoded'])\n",
    "\n",
    "\n",
    "\n",
    "# Obtener la predicción del modelo para el nuevo conjunto de datos\n",
    "prediccion = arbolDe.predict(new_data)\n",
    "print(prediccion)"
   ]
  },
  {
   "cell_type": "markdown",
   "id": "f4ea0ec7",
   "metadata": {},
   "source": [
    "1. Importación de librerias\n",
    "2. se crea el objeto del árbol\n",
    "3. Se crea el modelo\n",
    "4. Se crean las predicciones del modelo sobre los datos x_test\n",
    "5. Se calcula la presición del modelo\n",
    "6. Se hace validación cruzada\n",
    "7. Se muestran resultados\n",
    "## Vecinos Cercanos"
   ]
  },
  {
   "cell_type": "code",
   "execution_count": 45,
   "id": "acdb4492",
   "metadata": {},
   "outputs": [
    {
     "name": "stdout",
     "output_type": "stream",
     "text": [
      "Para knn 1.0\n",
      "[1. 1. 1. 1. 1. 1. 1. 1. 1. 1.]\n",
      "cv_scores mean:1.0\n",
      "                       precision    recall  f1-score   support\n",
      "\n",
      "Terremoto sin peligro       1.00      1.00      1.00    119311\n",
      "\n",
      "             accuracy                           1.00    119311\n",
      "            macro avg       1.00      1.00      1.00    119311\n",
      "         weighted avg       1.00      1.00      1.00    119311\n",
      "\n"
     ]
    }
   ],
   "source": [
    "from sklearn.neighbors import KNeighborsClassifier\n",
    "#se crea el modelo\n",
    "knn_model = KNeighborsClassifier(n_neighbors = 3)\n",
    "#se entrena el modelo con los datos\n",
    "neighbours = knn_model.fit(X_train, Y_train)\n",
    "\n",
    "#prections\n",
    "predict_knn=neighbours.predict(X_test)\n",
    "#medida de evaluacion de calidad\n",
    "accuracy_knn = metrics.accuracy_score(Y_test, predict_knn)\n",
    "print('Para knn', accuracy_knn)\n",
    "\n",
    "#se crea otro modelo\n",
    "k = KNeighborsClassifier(n_neighbors = 3)\n",
    "\n",
    "#validacion cruzada\n",
    "cv_scores_knn = cross_val_score(k, x, y, cv=10)\n",
    "\n",
    "print(cv_scores_knn)\n",
    "print('cv_scores mean:{}'.format(np.mean(cv_scores_knn)))\n",
    "\n",
    "#se genera un informa de clasificacion con los datos\n",
    "from sklearn.metrics import classification_report\n",
    "predict_knn = classification_report(predict_knn, Y_test)\n",
    "print(predict_knn)"
   ]
  },
  {
   "cell_type": "code",
   "execution_count": 46,
   "id": "69a86a24",
   "metadata": {},
   "outputs": [
    {
     "name": "stdout",
     "output_type": "stream",
     "text": [
      "['Terremoto sin peligro']\n"
     ]
    }
   ],
   "source": [
    "new_data2 = pd.DataFrame({ \n",
    "                         'anio_encode': 2023, \n",
    "                         'Depth_Encoded': 100, \n",
    "                         'Magnitude_Encoded': 3.2}, index=[0])\n",
    "#ingenieria de caracteristicas para que lo interprete el modelo\n",
    "#new_data2['anio_encode'] = routulador.fit_transform(new_data2['anio_encode'])\n",
    "#new_data2['Depth_Encoded'] = routulador.fit_transform(new_data2['Depth_Encoded'])\n",
    "#new_data2['Magnitude_Encoded'] = routulador.fit_transform(new_data2['Magnitude_Encoded'])\n",
    "\n",
    "predict_knn2 = neighbours.predict(new_data2)\n",
    "print(predict_knn2)"
   ]
  },
  {
   "cell_type": "markdown",
   "id": "4a41b9cb",
   "metadata": {},
   "source": [
    "1. Importación de librerias\n",
    "2. Se crea el modelo\n",
    "3. Se entrena el modelo con los datos\n",
    "4. Se crean las predicciones del modelo sobre los datos x_test\n",
    "5. Se calcula la presición del modelo\n",
    "6. Se hace validación cruzada\n",
    "7. Se muestran resultados"
   ]
  }
 ],
 "metadata": {
  "kernelspec": {
   "display_name": "Python 3 (ipykernel)",
   "language": "python",
   "name": "python3"
  },
  "language_info": {
   "codemirror_mode": {
    "name": "ipython",
    "version": 3
   },
   "file_extension": ".py",
   "mimetype": "text/x-python",
   "name": "python",
   "nbconvert_exporter": "python",
   "pygments_lexer": "ipython3",
   "version": "3.9.12"
  }
 },
 "nbformat": 4,
 "nbformat_minor": 5
}
